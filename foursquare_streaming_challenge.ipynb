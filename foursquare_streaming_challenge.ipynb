{
  "nbformat": 4,
  "nbformat_minor": 0,
  "metadata": {
    "colab": {
      "name": "foursquare_streaming_challenge.ipynb",
      "version": "0.3.2",
      "provenance": []
    },
    "kernelspec": {
      "name": "python3",
      "display_name": "Python 3"
    }
  },
  "cells": [
    {
      "cell_type": "markdown",
      "metadata": {
        "id": "ruk1rwVDWypx",
        "colab_type": "text"
      },
      "source": [
        "# Spark Streaming Four Square Challenge - Stream Reading Notebook\n",
        "Raj Prasad\n",
        "July 2019\n",
        "\n",
        "[html version](https://daddyprasad5.github.io/foursquare_streaming_challenge.html) \n",
        "\n",
        "[jupyter notebook version](https://github.com/daddyprasad5/thinkful/blob/master/foursquare_streaming_challenge.ipynb) \n",
        "\n",
        "The goal of this exercise is to create a stream of foursquare trending venues by calling the foursquare APIs and storing the output into files in my google drive.  There's [another notebook](https://github.com/daddyprasad5/thinkful/blob/master/foursquare_client.ipynb) that does this part.  \n",
        "\n",
        "This notebook then reads that stream and displays data from it - nothing fancy just the print of the dataframe.  \n",
        "\n",
        "I've got [another interesting version](https://daddyprasad5.github.io/interactive_gmaps_and_four_square.html) of this that uses Jupyter Widgets to allow the notebook user to pick a city, then collects the foursquare trending venues from the foursquare API, and displays the locations of those venues on a google map.   "
      ]
    },
    {
      "cell_type": "code",
      "metadata": {
        "id": "Wl1TBwe4ocmv",
        "colab_type": "code",
        "colab": {
          "base_uri": "https://localhost:8080/",
          "height": 1000
        },
        "outputId": "1859a07d-bb80-4457-cafb-1911969265ce"
      },
      "source": [
        "#install spark\n",
        "!apt-get install openjdk-8-jdk-headless -qq > /dev/null\n",
        "!wget -q https://www-us.apache.org/dist/spark/spark-2.4.3/spark-2.4.3-bin-hadoop2.7.tgz\n",
        "!tar xf spark-2.4.3-bin-hadoop2.7.tgz\n",
        "\n",
        "# Install spark-related depdencies for Python\n",
        "!pip install -q findspark\n",
        "!pip install pyspark\n",
        "!pip install gmaps\n",
        "!pip install ipywidgets\n",
        "!pip install widgetsnbextension\n",
        "\n",
        "# Set up required environment variables\n",
        "import os\n",
        "os.environ[\"JAVA_HOME\"] = \"/usr/lib/jvm/java-8-openjdk-amd64\"\n",
        "os.environ[\"SPARK_HOME\"] = \"/content/spark-2.4.3-bin-hadoop2.7\"\n",
        "\n",
        "# Point Colaboratory to Google Drive\n",
        "from google.colab import drive\n",
        "drive.mount('/content/gdrive')"
      ],
      "execution_count": 3,
      "outputs": [
        {
          "output_type": "stream",
          "text": [
            "Requirement already satisfied: pyspark in /usr/local/lib/python3.6/dist-packages (2.4.3)\n",
            "Requirement already satisfied: py4j==0.10.7 in /usr/local/lib/python3.6/dist-packages (from pyspark) (0.10.7)\n",
            "Requirement already satisfied: gmaps in /usr/local/lib/python3.6/dist-packages (0.9.0)\n",
            "Requirement already satisfied: traitlets>=4.3.0 in /usr/local/lib/python3.6/dist-packages (from gmaps) (4.3.2)\n",
            "Requirement already satisfied: geojson>=2.0.0 in /usr/local/lib/python3.6/dist-packages (from gmaps) (2.4.1)\n",
            "Requirement already satisfied: ipython>=5.3.0 in /usr/local/lib/python3.6/dist-packages (from gmaps) (5.5.0)\n",
            "Requirement already satisfied: ipywidgets>=7.0.0 in /usr/local/lib/python3.6/dist-packages (from gmaps) (7.5.0)\n",
            "Requirement already satisfied: six in /usr/local/lib/python3.6/dist-packages (from gmaps) (1.12.0)\n",
            "Requirement already satisfied: ipython-genutils in /usr/local/lib/python3.6/dist-packages (from traitlets>=4.3.0->gmaps) (0.2.0)\n",
            "Requirement already satisfied: decorator in /usr/local/lib/python3.6/dist-packages (from traitlets>=4.3.0->gmaps) (4.4.0)\n",
            "Requirement already satisfied: pexpect; sys_platform != \"win32\" in /usr/local/lib/python3.6/dist-packages (from ipython>=5.3.0->gmaps) (4.7.0)\n",
            "Requirement already satisfied: simplegeneric>0.8 in /usr/local/lib/python3.6/dist-packages (from ipython>=5.3.0->gmaps) (0.8.1)\n",
            "Requirement already satisfied: prompt-toolkit<2.0.0,>=1.0.4 in /usr/local/lib/python3.6/dist-packages (from ipython>=5.3.0->gmaps) (1.0.16)\n",
            "Requirement already satisfied: setuptools>=18.5 in /usr/local/lib/python3.6/dist-packages (from ipython>=5.3.0->gmaps) (41.0.1)\n",
            "Requirement already satisfied: pickleshare in /usr/local/lib/python3.6/dist-packages (from ipython>=5.3.0->gmaps) (0.7.5)\n",
            "Requirement already satisfied: pygments in /usr/local/lib/python3.6/dist-packages (from ipython>=5.3.0->gmaps) (2.1.3)\n",
            "Requirement already satisfied: ipykernel>=4.5.1 in /usr/local/lib/python3.6/dist-packages (from ipywidgets>=7.0.0->gmaps) (4.6.1)\n",
            "Requirement already satisfied: widgetsnbextension~=3.5.0 in /usr/local/lib/python3.6/dist-packages (from ipywidgets>=7.0.0->gmaps) (3.5.0)\n",
            "Requirement already satisfied: nbformat>=4.2.0 in /usr/local/lib/python3.6/dist-packages (from ipywidgets>=7.0.0->gmaps) (4.4.0)\n",
            "Requirement already satisfied: ptyprocess>=0.5 in /usr/local/lib/python3.6/dist-packages (from pexpect; sys_platform != \"win32\"->ipython>=5.3.0->gmaps) (0.6.0)\n",
            "Requirement already satisfied: wcwidth in /usr/local/lib/python3.6/dist-packages (from prompt-toolkit<2.0.0,>=1.0.4->ipython>=5.3.0->gmaps) (0.1.7)\n",
            "Requirement already satisfied: jupyter-client in /usr/local/lib/python3.6/dist-packages (from ipykernel>=4.5.1->ipywidgets>=7.0.0->gmaps) (5.3.1)\n",
            "Requirement already satisfied: tornado>=4.0 in /usr/local/lib/python3.6/dist-packages (from ipykernel>=4.5.1->ipywidgets>=7.0.0->gmaps) (4.5.3)\n",
            "Requirement already satisfied: notebook>=4.4.1 in /usr/local/lib/python3.6/dist-packages (from widgetsnbextension~=3.5.0->ipywidgets>=7.0.0->gmaps) (5.2.2)\n",
            "Requirement already satisfied: jsonschema!=2.5.0,>=2.4 in /usr/local/lib/python3.6/dist-packages (from nbformat>=4.2.0->ipywidgets>=7.0.0->gmaps) (2.6.0)\n",
            "Requirement already satisfied: jupyter-core in /usr/local/lib/python3.6/dist-packages (from nbformat>=4.2.0->ipywidgets>=7.0.0->gmaps) (4.5.0)\n",
            "Requirement already satisfied: pyzmq>=13 in /usr/local/lib/python3.6/dist-packages (from jupyter-client->ipykernel>=4.5.1->ipywidgets>=7.0.0->gmaps) (17.0.0)\n",
            "Requirement already satisfied: python-dateutil>=2.1 in /usr/local/lib/python3.6/dist-packages (from jupyter-client->ipykernel>=4.5.1->ipywidgets>=7.0.0->gmaps) (2.5.3)\n",
            "Requirement already satisfied: terminado>=0.3.3; sys_platform != \"win32\" in /usr/local/lib/python3.6/dist-packages (from notebook>=4.4.1->widgetsnbextension~=3.5.0->ipywidgets>=7.0.0->gmaps) (0.8.2)\n",
            "Requirement already satisfied: jinja2 in /usr/local/lib/python3.6/dist-packages (from notebook>=4.4.1->widgetsnbextension~=3.5.0->ipywidgets>=7.0.0->gmaps) (2.10.1)\n",
            "Requirement already satisfied: nbconvert in /usr/local/lib/python3.6/dist-packages (from notebook>=4.4.1->widgetsnbextension~=3.5.0->ipywidgets>=7.0.0->gmaps) (5.5.0)\n",
            "Requirement already satisfied: MarkupSafe>=0.23 in /usr/local/lib/python3.6/dist-packages (from jinja2->notebook>=4.4.1->widgetsnbextension~=3.5.0->ipywidgets>=7.0.0->gmaps) (1.1.1)\n",
            "Requirement already satisfied: entrypoints>=0.2.2 in /usr/local/lib/python3.6/dist-packages (from nbconvert->notebook>=4.4.1->widgetsnbextension~=3.5.0->ipywidgets>=7.0.0->gmaps) (0.3)\n",
            "Requirement already satisfied: pandocfilters>=1.4.1 in /usr/local/lib/python3.6/dist-packages (from nbconvert->notebook>=4.4.1->widgetsnbextension~=3.5.0->ipywidgets>=7.0.0->gmaps) (1.4.2)\n",
            "Requirement already satisfied: bleach in /usr/local/lib/python3.6/dist-packages (from nbconvert->notebook>=4.4.1->widgetsnbextension~=3.5.0->ipywidgets>=7.0.0->gmaps) (3.1.0)\n",
            "Requirement already satisfied: defusedxml in /usr/local/lib/python3.6/dist-packages (from nbconvert->notebook>=4.4.1->widgetsnbextension~=3.5.0->ipywidgets>=7.0.0->gmaps) (0.6.0)\n",
            "Requirement already satisfied: mistune>=0.8.1 in /usr/local/lib/python3.6/dist-packages (from nbconvert->notebook>=4.4.1->widgetsnbextension~=3.5.0->ipywidgets>=7.0.0->gmaps) (0.8.4)\n",
            "Requirement already satisfied: testpath in /usr/local/lib/python3.6/dist-packages (from nbconvert->notebook>=4.4.1->widgetsnbextension~=3.5.0->ipywidgets>=7.0.0->gmaps) (0.4.2)\n",
            "Requirement already satisfied: webencodings in /usr/local/lib/python3.6/dist-packages (from bleach->nbconvert->notebook>=4.4.1->widgetsnbextension~=3.5.0->ipywidgets>=7.0.0->gmaps) (0.5.1)\n",
            "Requirement already satisfied: ipywidgets in /usr/local/lib/python3.6/dist-packages (7.5.0)\n",
            "Requirement already satisfied: ipykernel>=4.5.1 in /usr/local/lib/python3.6/dist-packages (from ipywidgets) (4.6.1)\n",
            "Requirement already satisfied: ipython>=4.0.0; python_version >= \"3.3\" in /usr/local/lib/python3.6/dist-packages (from ipywidgets) (5.5.0)\n",
            "Requirement already satisfied: widgetsnbextension~=3.5.0 in /usr/local/lib/python3.6/dist-packages (from ipywidgets) (3.5.0)\n",
            "Requirement already satisfied: nbformat>=4.2.0 in /usr/local/lib/python3.6/dist-packages (from ipywidgets) (4.4.0)\n",
            "Requirement already satisfied: traitlets>=4.3.1 in /usr/local/lib/python3.6/dist-packages (from ipywidgets) (4.3.2)\n",
            "Requirement already satisfied: jupyter-client in /usr/local/lib/python3.6/dist-packages (from ipykernel>=4.5.1->ipywidgets) (5.3.1)\n",
            "Requirement already satisfied: tornado>=4.0 in /usr/local/lib/python3.6/dist-packages (from ipykernel>=4.5.1->ipywidgets) (4.5.3)\n",
            "Requirement already satisfied: decorator in /usr/local/lib/python3.6/dist-packages (from ipython>=4.0.0; python_version >= \"3.3\"->ipywidgets) (4.4.0)\n",
            "Requirement already satisfied: pickleshare in /usr/local/lib/python3.6/dist-packages (from ipython>=4.0.0; python_version >= \"3.3\"->ipywidgets) (0.7.5)\n",
            "Requirement already satisfied: pexpect; sys_platform != \"win32\" in /usr/local/lib/python3.6/dist-packages (from ipython>=4.0.0; python_version >= \"3.3\"->ipywidgets) (4.7.0)\n",
            "Requirement already satisfied: prompt-toolkit<2.0.0,>=1.0.4 in /usr/local/lib/python3.6/dist-packages (from ipython>=4.0.0; python_version >= \"3.3\"->ipywidgets) (1.0.16)\n",
            "Requirement already satisfied: pygments in /usr/local/lib/python3.6/dist-packages (from ipython>=4.0.0; python_version >= \"3.3\"->ipywidgets) (2.1.3)\n",
            "Requirement already satisfied: simplegeneric>0.8 in /usr/local/lib/python3.6/dist-packages (from ipython>=4.0.0; python_version >= \"3.3\"->ipywidgets) (0.8.1)\n",
            "Requirement already satisfied: setuptools>=18.5 in /usr/local/lib/python3.6/dist-packages (from ipython>=4.0.0; python_version >= \"3.3\"->ipywidgets) (41.0.1)\n",
            "Requirement already satisfied: notebook>=4.4.1 in /usr/local/lib/python3.6/dist-packages (from widgetsnbextension~=3.5.0->ipywidgets) (5.2.2)\n",
            "Requirement already satisfied: jupyter-core in /usr/local/lib/python3.6/dist-packages (from nbformat>=4.2.0->ipywidgets) (4.5.0)\n",
            "Requirement already satisfied: jsonschema!=2.5.0,>=2.4 in /usr/local/lib/python3.6/dist-packages (from nbformat>=4.2.0->ipywidgets) (2.6.0)\n",
            "Requirement already satisfied: ipython-genutils in /usr/local/lib/python3.6/dist-packages (from nbformat>=4.2.0->ipywidgets) (0.2.0)\n",
            "Requirement already satisfied: six in /usr/local/lib/python3.6/dist-packages (from traitlets>=4.3.1->ipywidgets) (1.12.0)\n",
            "Requirement already satisfied: python-dateutil>=2.1 in /usr/local/lib/python3.6/dist-packages (from jupyter-client->ipykernel>=4.5.1->ipywidgets) (2.5.3)\n",
            "Requirement already satisfied: pyzmq>=13 in /usr/local/lib/python3.6/dist-packages (from jupyter-client->ipykernel>=4.5.1->ipywidgets) (17.0.0)\n",
            "Requirement already satisfied: ptyprocess>=0.5 in /usr/local/lib/python3.6/dist-packages (from pexpect; sys_platform != \"win32\"->ipython>=4.0.0; python_version >= \"3.3\"->ipywidgets) (0.6.0)\n",
            "Requirement already satisfied: wcwidth in /usr/local/lib/python3.6/dist-packages (from prompt-toolkit<2.0.0,>=1.0.4->ipython>=4.0.0; python_version >= \"3.3\"->ipywidgets) (0.1.7)\n",
            "Requirement already satisfied: terminado>=0.3.3; sys_platform != \"win32\" in /usr/local/lib/python3.6/dist-packages (from notebook>=4.4.1->widgetsnbextension~=3.5.0->ipywidgets) (0.8.2)\n",
            "Requirement already satisfied: nbconvert in /usr/local/lib/python3.6/dist-packages (from notebook>=4.4.1->widgetsnbextension~=3.5.0->ipywidgets) (5.5.0)\n",
            "Requirement already satisfied: jinja2 in /usr/local/lib/python3.6/dist-packages (from notebook>=4.4.1->widgetsnbextension~=3.5.0->ipywidgets) (2.10.1)\n",
            "Requirement already satisfied: bleach in /usr/local/lib/python3.6/dist-packages (from nbconvert->notebook>=4.4.1->widgetsnbextension~=3.5.0->ipywidgets) (3.1.0)\n",
            "Requirement already satisfied: mistune>=0.8.1 in /usr/local/lib/python3.6/dist-packages (from nbconvert->notebook>=4.4.1->widgetsnbextension~=3.5.0->ipywidgets) (0.8.4)\n",
            "Requirement already satisfied: defusedxml in /usr/local/lib/python3.6/dist-packages (from nbconvert->notebook>=4.4.1->widgetsnbextension~=3.5.0->ipywidgets) (0.6.0)\n",
            "Requirement already satisfied: testpath in /usr/local/lib/python3.6/dist-packages (from nbconvert->notebook>=4.4.1->widgetsnbextension~=3.5.0->ipywidgets) (0.4.2)\n",
            "Requirement already satisfied: entrypoints>=0.2.2 in /usr/local/lib/python3.6/dist-packages (from nbconvert->notebook>=4.4.1->widgetsnbextension~=3.5.0->ipywidgets) (0.3)\n",
            "Requirement already satisfied: pandocfilters>=1.4.1 in /usr/local/lib/python3.6/dist-packages (from nbconvert->notebook>=4.4.1->widgetsnbextension~=3.5.0->ipywidgets) (1.4.2)\n",
            "Requirement already satisfied: MarkupSafe>=0.23 in /usr/local/lib/python3.6/dist-packages (from jinja2->notebook>=4.4.1->widgetsnbextension~=3.5.0->ipywidgets) (1.1.1)\n",
            "Requirement already satisfied: webencodings in /usr/local/lib/python3.6/dist-packages (from bleach->nbconvert->notebook>=4.4.1->widgetsnbextension~=3.5.0->ipywidgets) (0.5.1)\n",
            "Requirement already satisfied: widgetsnbextension in /usr/local/lib/python3.6/dist-packages (3.5.0)\n",
            "Requirement already satisfied: notebook>=4.4.1 in /usr/local/lib/python3.6/dist-packages (from widgetsnbextension) (5.2.2)\n",
            "Requirement already satisfied: tornado>=4 in /usr/local/lib/python3.6/dist-packages (from notebook>=4.4.1->widgetsnbextension) (4.5.3)\n",
            "Requirement already satisfied: traitlets>=4.2.1 in /usr/local/lib/python3.6/dist-packages (from notebook>=4.4.1->widgetsnbextension) (4.3.2)\n",
            "Requirement already satisfied: jupyter-core in /usr/local/lib/python3.6/dist-packages (from notebook>=4.4.1->widgetsnbextension) (4.5.0)\n",
            "Requirement already satisfied: jupyter-client in /usr/local/lib/python3.6/dist-packages (from notebook>=4.4.1->widgetsnbextension) (5.3.1)\n",
            "Requirement already satisfied: ipykernel in /usr/local/lib/python3.6/dist-packages (from notebook>=4.4.1->widgetsnbextension) (4.6.1)\n",
            "Requirement already satisfied: terminado>=0.3.3; sys_platform != \"win32\" in /usr/local/lib/python3.6/dist-packages (from notebook>=4.4.1->widgetsnbextension) (0.8.2)\n",
            "Requirement already satisfied: nbconvert in /usr/local/lib/python3.6/dist-packages (from notebook>=4.4.1->widgetsnbextension) (5.5.0)\n",
            "Requirement already satisfied: nbformat in /usr/local/lib/python3.6/dist-packages (from notebook>=4.4.1->widgetsnbextension) (4.4.0)\n",
            "Requirement already satisfied: jinja2 in /usr/local/lib/python3.6/dist-packages (from notebook>=4.4.1->widgetsnbextension) (2.10.1)\n",
            "Requirement already satisfied: ipython-genutils in /usr/local/lib/python3.6/dist-packages (from notebook>=4.4.1->widgetsnbextension) (0.2.0)\n",
            "Requirement already satisfied: six in /usr/local/lib/python3.6/dist-packages (from traitlets>=4.2.1->notebook>=4.4.1->widgetsnbextension) (1.12.0)\n",
            "Requirement already satisfied: decorator in /usr/local/lib/python3.6/dist-packages (from traitlets>=4.2.1->notebook>=4.4.1->widgetsnbextension) (4.4.0)\n",
            "Requirement already satisfied: pyzmq>=13 in /usr/local/lib/python3.6/dist-packages (from jupyter-client->notebook>=4.4.1->widgetsnbextension) (17.0.0)\n",
            "Requirement already satisfied: python-dateutil>=2.1 in /usr/local/lib/python3.6/dist-packages (from jupyter-client->notebook>=4.4.1->widgetsnbextension) (2.5.3)\n",
            "Requirement already satisfied: ipython>=4.0.0 in /usr/local/lib/python3.6/dist-packages (from ipykernel->notebook>=4.4.1->widgetsnbextension) (5.5.0)\n",
            "Requirement already satisfied: ptyprocess; os_name != \"nt\" in /usr/local/lib/python3.6/dist-packages (from terminado>=0.3.3; sys_platform != \"win32\"->notebook>=4.4.1->widgetsnbextension) (0.6.0)\n",
            "Requirement already satisfied: bleach in /usr/local/lib/python3.6/dist-packages (from nbconvert->notebook>=4.4.1->widgetsnbextension) (3.1.0)\n",
            "Requirement already satisfied: defusedxml in /usr/local/lib/python3.6/dist-packages (from nbconvert->notebook>=4.4.1->widgetsnbextension) (0.6.0)\n",
            "Requirement already satisfied: pygments in /usr/local/lib/python3.6/dist-packages (from nbconvert->notebook>=4.4.1->widgetsnbextension) (2.1.3)\n",
            "Requirement already satisfied: entrypoints>=0.2.2 in /usr/local/lib/python3.6/dist-packages (from nbconvert->notebook>=4.4.1->widgetsnbextension) (0.3)\n",
            "Requirement already satisfied: testpath in /usr/local/lib/python3.6/dist-packages (from nbconvert->notebook>=4.4.1->widgetsnbextension) (0.4.2)\n",
            "Requirement already satisfied: mistune>=0.8.1 in /usr/local/lib/python3.6/dist-packages (from nbconvert->notebook>=4.4.1->widgetsnbextension) (0.8.4)\n",
            "Requirement already satisfied: pandocfilters>=1.4.1 in /usr/local/lib/python3.6/dist-packages (from nbconvert->notebook>=4.4.1->widgetsnbextension) (1.4.2)\n",
            "Requirement already satisfied: jsonschema!=2.5.0,>=2.4 in /usr/local/lib/python3.6/dist-packages (from nbformat->notebook>=4.4.1->widgetsnbextension) (2.6.0)\n",
            "Requirement already satisfied: MarkupSafe>=0.23 in /usr/local/lib/python3.6/dist-packages (from jinja2->notebook>=4.4.1->widgetsnbextension) (1.1.1)\n",
            "Requirement already satisfied: pickleshare in /usr/local/lib/python3.6/dist-packages (from ipython>=4.0.0->ipykernel->notebook>=4.4.1->widgetsnbextension) (0.7.5)\n",
            "Requirement already satisfied: prompt-toolkit<2.0.0,>=1.0.4 in /usr/local/lib/python3.6/dist-packages (from ipython>=4.0.0->ipykernel->notebook>=4.4.1->widgetsnbextension) (1.0.16)\n",
            "Requirement already satisfied: pexpect; sys_platform != \"win32\" in /usr/local/lib/python3.6/dist-packages (from ipython>=4.0.0->ipykernel->notebook>=4.4.1->widgetsnbextension) (4.7.0)\n",
            "Requirement already satisfied: setuptools>=18.5 in /usr/local/lib/python3.6/dist-packages (from ipython>=4.0.0->ipykernel->notebook>=4.4.1->widgetsnbextension) (41.0.1)\n",
            "Requirement already satisfied: simplegeneric>0.8 in /usr/local/lib/python3.6/dist-packages (from ipython>=4.0.0->ipykernel->notebook>=4.4.1->widgetsnbextension) (0.8.1)\n",
            "Requirement already satisfied: webencodings in /usr/local/lib/python3.6/dist-packages (from bleach->nbconvert->notebook>=4.4.1->widgetsnbextension) (0.5.1)\n",
            "Requirement already satisfied: wcwidth in /usr/local/lib/python3.6/dist-packages (from prompt-toolkit<2.0.0,>=1.0.4->ipython>=4.0.0->ipykernel->notebook>=4.4.1->widgetsnbextension) (0.1.7)\n",
            "Drive already mounted at /content/gdrive; to attempt to forcibly remount, call drive.mount(\"/content/gdrive\", force_remount=True).\n"
          ],
          "name": "stdout"
        }
      ]
    },
    {
      "cell_type": "code",
      "metadata": {
        "id": "gprFJVuUowzL",
        "colab_type": "code",
        "colab": {}
      },
      "source": [
        "#imports\n",
        "from pyspark import SparkContext\n",
        "from pyspark.sql import SparkSession\n",
        "\n",
        "from pyspark.sql.functions import desc, col, window\n",
        "\n",
        "from pyspark.sql.types import StructType, StructField, StringType, LongType, TimestampType\n",
        "from pyspark.streaming import StreamingContext\n",
        "\n",
        "from IPython.display import display,HTML,clear_output\n",
        "\n",
        "import json\n",
        "import time\n",
        "import os\n",
        "import requests\n",
        "import datetime\n",
        "import pandas as pd"
      ],
      "execution_count": 0,
      "outputs": []
    },
    {
      "cell_type": "code",
      "metadata": {
        "id": "VsjpNxssoxwS",
        "colab_type": "code",
        "colab": {}
      },
      "source": [
        "#set constants\n",
        "APP_NAME = \"Foursquare streaming app\"\n",
        "SPARK_URL = \"local[*]\"\n",
        "RANDOM_SEED = 141107\n",
        "TRAINING_DATA_RATIO = 0.8\n",
        "LOG_PATH = \"/content/gdrive/My Drive/Colab Datasets/foursquare_logs/\""
      ],
      "execution_count": 0,
      "outputs": []
    },
    {
      "cell_type": "code",
      "metadata": {
        "id": "5OqLxM8XpsuU",
        "colab_type": "code",
        "colab": {
          "base_uri": "https://localhost:8080/",
          "height": 34
        },
        "outputId": "d9a9a52a-f2e3-4044-eb2e-8aed3b2b2849"
      },
      "source": [
        "inputPath = LOG_PATH\n",
        "\n",
        "numFiles = len(os.listdir(inputPath))\n",
        "numFileOffset = numFiles - 1\n",
        "\n",
        "print(f\"There are {numFiles} files in our inputPath, which gives an offset of {numFileOffset}.\")\n",
        "\n",
        "spark = SparkSession.builder.appName(APP_NAME).master(SPARK_URL).getOrCreate()"
      ],
      "execution_count": 6,
      "outputs": [
        {
          "output_type": "stream",
          "text": [
            "There are 12 files in our inputPath, which gives an offset of 11.\n"
          ],
          "name": "stdout"
        }
      ]
    },
    {
      "cell_type": "code",
      "metadata": {
        "id": "nI0SNRbFqtco",
        "colab_type": "code",
        "colab": {}
      },
      "source": [
        "# Static DataFrame representing data in the JSON files\n",
        "staticInputDF = spark.read.json(inputPath)"
      ],
      "execution_count": 0,
      "outputs": []
    },
    {
      "cell_type": "code",
      "metadata": {
        "id": "UpVCkMqhquan",
        "colab_type": "code",
        "colab": {
          "base_uri": "https://localhost:8080/",
          "height": 153
        },
        "outputId": "05ff2e0e-4963-4788-8793-7cdd56cf412a"
      },
      "source": [
        "staticInputDF.printSchema()"
      ],
      "execution_count": 18,
      "outputs": [
        {
          "output_type": "stream",
          "text": [
            "root\n",
            " |-- city: string (nullable = true)\n",
            " |-- locations: array (nullable = true)\n",
            " |    |-- element: array (containsNull = true)\n",
            " |    |    |-- element: double (containsNull = true)\n",
            " |-- names: array (nullable = true)\n",
            " |    |-- element: string (containsNull = true)\n",
            "\n"
          ],
          "name": "stdout"
        }
      ]
    },
    {
      "cell_type": "code",
      "metadata": {
        "id": "pWQjVmnaudhy",
        "colab_type": "code",
        "colab": {
          "base_uri": "https://localhost:8080/",
          "height": 54
        },
        "outputId": "fef9e7ce-8f7f-475a-aec4-f3209c6ef292"
      },
      "source": [
        "flowSchema = staticInputDF.schema"
      ],
      "execution_count": 20,
      "outputs": [
        {
          "output_type": "execute_result",
          "data": {
            "text/plain": [
              "StructType(List(StructField(city,StringType,true),StructField(locations,ArrayType(ArrayType(DoubleType,true),true),true),StructField(names,ArrayType(StringType,true),true)))"
            ]
          },
          "metadata": {
            "tags": []
          },
          "execution_count": 20
        }
      ]
    },
    {
      "cell_type": "code",
      "metadata": {
        "id": "R6zo4WTru7J8",
        "colab_type": "code",
        "colab": {}
      },
      "source": [
        "streamingInputDF = (\n",
        "  spark\n",
        "    .readStream                       \n",
        "    .schema(flowSchema)               # Set the schema of the JSON data\n",
        "    .option(\"maxFilesPerTrigger\", 1)  # Treat a sequence of files as a stream by picking one file at a time\n",
        "    .json(inputPath)\n",
        ")"
      ],
      "execution_count": 0,
      "outputs": []
    },
    {
      "cell_type": "code",
      "metadata": {
        "id": "tjypK175V82r",
        "colab_type": "code",
        "colab": {}
      },
      "source": [
        "query.stop()"
      ],
      "execution_count": 0,
      "outputs": []
    },
    {
      "cell_type": "code",
      "metadata": {
        "id": "yYW3t-BGvOtd",
        "colab_type": "code",
        "colab": {
          "base_uri": "https://localhost:8080/",
          "height": 34
        },
        "outputId": "20eb2634-be9d-4685-b558-84f3e7ed5c1b"
      },
      "source": [
        "streamingLocationsDF = streamingInputDF \\\n",
        "    .select('city', \"locations\", \"names\") \\\n",
        "    .groupby('city', \"locations\", \"names\") \\\n",
        "    .count()\n",
        "\n",
        "# Is this DF actually a streaming DF?\n",
        "streamingLocationsDF.isStreaming"
      ],
      "execution_count": 34,
      "outputs": [
        {
          "output_type": "execute_result",
          "data": {
            "text/plain": [
              "True"
            ]
          },
          "metadata": {
            "tags": []
          },
          "execution_count": 34
        }
      ]
    },
    {
      "cell_type": "code",
      "metadata": {
        "id": "A6N_30UzxdTm",
        "colab_type": "code",
        "colab": {}
      },
      "source": [
        "spark.conf.set(\"spark.sql.shuffle.partitions\", \"2\")  # keep the size of shuffles small\n",
        "\n",
        "query = (\n",
        "  streamingLocationsDF\n",
        "    .writeStream\n",
        "    .format(\"memory\")       \n",
        "    .queryName(\"trending_locations\")   \n",
        "    .outputMode(\"complete\")  # complete = all the counts should be in the table\n",
        "    .start()\n",
        ")"
      ],
      "execution_count": 0,
      "outputs": []
    },
    {
      "cell_type": "markdown",
      "metadata": {
        "id": "L9kh15cXWwEL",
        "colab_type": "text"
      },
      "source": [
        ""
      ]
    },
    {
      "cell_type": "code",
      "metadata": {
        "id": "Ks1TFXpiyG15",
        "colab_type": "code",
        "colab": {
          "base_uri": "https://localhost:8080/",
          "height": 1000
        },
        "outputId": "a61e833b-97a3-430a-a300-b1b04893fd79"
      },
      "source": [
        "while True:\n",
        "    streamingLocationsDF = spark.sql(\"select * from trending_locations\").collect()\n",
        "    display(streamingLocationsDF)\n",
        "    time.sleep(10)"
      ],
      "execution_count": 37,
      "outputs": [
        {
          "output_type": "display_data",
          "data": {
            "text/plain": [
              "[Row(city='New York City', locations=[[40.753621, -73.983265], [40.750497022729604, -73.99327286150431], [40.74226204193276, -73.98800611495972], [40.73883630073037, -73.99277694087336], [40.74610215801135, -73.98206990777314], [40.75267443042928, -73.97697960643174], [40.73491348804492, -74.00205073261284]], names=['Bryant Park', 'New York Penn Station', 'Madison Square Park', 'OOTOYA 大戸屋 (OOTOYA)', 'Pret A Manger', 'Grand Central Terminal', 'Partners Coffee Roasters'], count=2),\n",
              " Row(city='San Francisco', locations=[], names=[], count=2),\n",
              " Row(city='London', locations=[[51.51464, -0.152864], [51.51429953268523, -0.15159845352172852], [51.516185764675825, -0.14046166652284045]], names=['Selfridges & Co', 'EL&N', 'JOLT'], count=1),\n",
              " Row(city='Paris', locations=[[48.857005585002405, 2.351490065921098]], names=['Paris'], count=1)]"
            ]
          },
          "metadata": {
            "tags": []
          }
        },
        {
          "output_type": "display_data",
          "data": {
            "text/plain": [
              "[Row(city='New York City', locations=[[40.753621, -73.983265], [40.750497022729604, -73.99327286150431], [40.74226204193276, -73.98800611495972], [40.73883630073037, -73.99277694087336], [40.74610215801135, -73.98206990777314], [40.75267443042928, -73.97697960643174], [40.73491348804492, -74.00205073261284]], names=['Bryant Park', 'New York Penn Station', 'Madison Square Park', 'OOTOYA 大戸屋 (OOTOYA)', 'Pret A Manger', 'Grand Central Terminal', 'Partners Coffee Roasters'], count=2),\n",
              " Row(city='San Francisco', locations=[], names=[], count=2),\n",
              " Row(city='London', locations=[[51.51464, -0.152864], [51.51429953268523, -0.15159845352172852], [51.516185764675825, -0.14046166652284045]], names=['Selfridges & Co', 'EL&N', 'JOLT'], count=1),\n",
              " Row(city='Paris', locations=[[48.857005585002405, 2.351490065921098]], names=['Paris'], count=2)]"
            ]
          },
          "metadata": {
            "tags": []
          }
        },
        {
          "output_type": "display_data",
          "data": {
            "text/plain": [
              "[Row(city='New York City', locations=[[40.753621, -73.983265], [40.750497022729604, -73.99327286150431], [40.74226204193276, -73.98800611495972], [40.73883630073037, -73.99277694087336], [40.74610215801135, -73.98206990777314], [40.75267443042928, -73.97697960643174], [40.73491348804492, -74.00205073261284]], names=['Bryant Park', 'New York Penn Station', 'Madison Square Park', 'OOTOYA 大戸屋 (OOTOYA)', 'Pret A Manger', 'Grand Central Terminal', 'Partners Coffee Roasters'], count=2),\n",
              " Row(city='San Francisco', locations=[], names=[], count=2),\n",
              " Row(city='London', locations=[[51.51464, -0.152864], [51.51429953268523, -0.15159845352172852], [51.516185764675825, -0.14046166652284045]], names=['Selfridges & Co', 'EL&N', 'JOLT'], count=1),\n",
              " Row(city='Paris', locations=[[48.857005585002405, 2.351490065921098]], names=['Paris'], count=2)]"
            ]
          },
          "metadata": {
            "tags": []
          }
        },
        {
          "output_type": "display_data",
          "data": {
            "text/plain": [
              "[Row(city='London', locations=[[51.51464, -0.152864], [51.516185764675825, -0.14046166652284045], [51.51429953268523, -0.15159845352172852]], names=['Selfridges & Co', 'JOLT', 'EL&N'], count=1),\n",
              " Row(city='New York City', locations=[[40.753621, -73.983265], [40.750497022729604, -73.99327286150431], [40.74226204193276, -73.98800611495972], [40.73883630073037, -73.99277694087336], [40.74610215801135, -73.98206990777314], [40.75267443042928, -73.97697960643174], [40.73491348804492, -74.00205073261284]], names=['Bryant Park', 'New York Penn Station', 'Madison Square Park', 'OOTOYA 大戸屋 (OOTOYA)', 'Pret A Manger', 'Grand Central Terminal', 'Partners Coffee Roasters'], count=2),\n",
              " Row(city='San Francisco', locations=[], names=[], count=2),\n",
              " Row(city='London', locations=[[51.51464, -0.152864], [51.51429953268523, -0.15159845352172852], [51.516185764675825, -0.14046166652284045]], names=['Selfridges & Co', 'EL&N', 'JOLT'], count=1),\n",
              " Row(city='Paris', locations=[[48.857005585002405, 2.351490065921098]], names=['Paris'], count=2)]"
            ]
          },
          "metadata": {
            "tags": []
          }
        },
        {
          "output_type": "display_data",
          "data": {
            "text/plain": [
              "[Row(city='London', locations=[[51.51464, -0.152864], [51.516185764675825, -0.14046166652284045], [51.51429953268523, -0.15159845352172852]], names=['Selfridges & Co', 'JOLT', 'EL&N'], count=1),\n",
              " Row(city='New York City', locations=[[40.753621, -73.983265], [40.750497022729604, -73.99327286150431], [40.74226204193276, -73.98800611495972], [40.73883630073037, -73.99277694087336], [40.74610215801135, -73.98206990777314], [40.75267443042928, -73.97697960643174], [40.73491348804492, -74.00205073261284]], names=['Bryant Park', 'New York Penn Station', 'Madison Square Park', 'OOTOYA 大戸屋 (OOTOYA)', 'Pret A Manger', 'Grand Central Terminal', 'Partners Coffee Roasters'], count=3),\n",
              " Row(city='San Francisco', locations=[], names=[], count=2),\n",
              " Row(city='London', locations=[[51.51464, -0.152864], [51.51429953268523, -0.15159845352172852], [51.516185764675825, -0.14046166652284045]], names=['Selfridges & Co', 'EL&N', 'JOLT'], count=1),\n",
              " Row(city='Paris', locations=[[48.857005585002405, 2.351490065921098]], names=['Paris'], count=2)]"
            ]
          },
          "metadata": {
            "tags": []
          }
        },
        {
          "output_type": "display_data",
          "data": {
            "text/plain": [
              "[Row(city='London', locations=[[51.51464, -0.152864], [51.516185764675825, -0.14046166652284045], [51.51429953268523, -0.15159845352172852]], names=['Selfridges & Co', 'JOLT', 'EL&N'], count=1),\n",
              " Row(city='New York City', locations=[[40.753621, -73.983265], [40.750497022729604, -73.99327286150431], [40.74226204193276, -73.98800611495972], [40.73883630073037, -73.99277694087336], [40.74610215801135, -73.98206990777314], [40.75267443042928, -73.97697960643174], [40.73491348804492, -74.00205073261284]], names=['Bryant Park', 'New York Penn Station', 'Madison Square Park', 'OOTOYA 大戸屋 (OOTOYA)', 'Pret A Manger', 'Grand Central Terminal', 'Partners Coffee Roasters'], count=3),\n",
              " Row(city='San Francisco', locations=[], names=[], count=2),\n",
              " Row(city='London', locations=[[51.51464, -0.152864], [51.51429953268523, -0.15159845352172852], [51.516185764675825, -0.14046166652284045]], names=['Selfridges & Co', 'EL&N', 'JOLT'], count=1),\n",
              " Row(city='Paris', locations=[[48.857005585002405, 2.351490065921098]], names=['Paris'], count=2)]"
            ]
          },
          "metadata": {
            "tags": []
          }
        },
        {
          "output_type": "display_data",
          "data": {
            "text/plain": [
              "[Row(city='London', locations=[[51.51464, -0.152864], [51.516185764675825, -0.14046166652284045], [51.51429953268523, -0.15159845352172852]], names=['Selfridges & Co', 'JOLT', 'EL&N'], count=1),\n",
              " Row(city='New York City', locations=[[40.753621, -73.983265], [40.750497022729604, -73.99327286150431], [40.74226204193276, -73.98800611495972], [40.73883630073037, -73.99277694087336], [40.74610215801135, -73.98206990777314], [40.75267443042928, -73.97697960643174], [40.73491348804492, -74.00205073261284]], names=['Bryant Park', 'New York Penn Station', 'Madison Square Park', 'OOTOYA 大戸屋 (OOTOYA)', 'Pret A Manger', 'Grand Central Terminal', 'Partners Coffee Roasters'], count=3),\n",
              " Row(city='San Francisco', locations=[], names=[], count=3),\n",
              " Row(city='London', locations=[[51.51464, -0.152864], [51.51429953268523, -0.15159845352172852], [51.516185764675825, -0.14046166652284045]], names=['Selfridges & Co', 'EL&N', 'JOLT'], count=1),\n",
              " Row(city='Paris', locations=[[48.857005585002405, 2.351490065921098]], names=['Paris'], count=2)]"
            ]
          },
          "metadata": {
            "tags": []
          }
        },
        {
          "output_type": "display_data",
          "data": {
            "text/plain": [
              "[Row(city='London', locations=[[51.51464, -0.152864], [51.516185764675825, -0.14046166652284045], [51.51429953268523, -0.15159845352172852]], names=['Selfridges & Co', 'JOLT', 'EL&N'], count=1),\n",
              " Row(city='New York City', locations=[[40.753621, -73.983265], [40.750497022729604, -73.99327286150431], [40.74226204193276, -73.98800611495972], [40.73883630073037, -73.99277694087336], [40.74610215801135, -73.98206990777314], [40.75267443042928, -73.97697960643174], [40.73491348804492, -74.00205073261284]], names=['Bryant Park', 'New York Penn Station', 'Madison Square Park', 'OOTOYA 大戸屋 (OOTOYA)', 'Pret A Manger', 'Grand Central Terminal', 'Partners Coffee Roasters'], count=3),\n",
              " Row(city='San Francisco', locations=[], names=[], count=3),\n",
              " Row(city='London', locations=[[51.51464, -0.152864], [51.51429953268523, -0.15159845352172852], [51.516185764675825, -0.14046166652284045]], names=['Selfridges & Co', 'EL&N', 'JOLT'], count=1),\n",
              " Row(city='Paris', locations=[[48.857005585002405, 2.351490065921098]], names=['Paris'], count=2)]"
            ]
          },
          "metadata": {
            "tags": []
          }
        },
        {
          "output_type": "display_data",
          "data": {
            "text/plain": [
              "[Row(city='London', locations=[[51.51464, -0.152864], [51.516185764675825, -0.14046166652284045], [51.51429953268523, -0.15159845352172852]], names=['Selfridges & Co', 'JOLT', 'EL&N'], count=1),\n",
              " Row(city='New York City', locations=[[40.753621, -73.983265], [40.750497022729604, -73.99327286150431], [40.74226204193276, -73.98800611495972], [40.73883630073037, -73.99277694087336], [40.74610215801135, -73.98206990777314], [40.75267443042928, -73.97697960643174], [40.73491348804492, -74.00205073261284]], names=['Bryant Park', 'New York Penn Station', 'Madison Square Park', 'OOTOYA 大戸屋 (OOTOYA)', 'Pret A Manger', 'Grand Central Terminal', 'Partners Coffee Roasters'], count=3),\n",
              " Row(city='San Francisco', locations=[], names=[], count=3),\n",
              " Row(city='London', locations=[[51.51464, -0.152864], [51.51429953268523, -0.15159845352172852], [51.516185764675825, -0.14046166652284045]], names=['Selfridges & Co', 'EL&N', 'JOLT'], count=1),\n",
              " Row(city='Paris', locations=[[48.857005585002405, 2.351490065921098]], names=['Paris'], count=3)]"
            ]
          },
          "metadata": {
            "tags": []
          }
        },
        {
          "output_type": "display_data",
          "data": {
            "text/plain": [
              "[Row(city='London', locations=[[51.51464, -0.152864], [51.516185764675825, -0.14046166652284045], [51.51429953268523, -0.15159845352172852]], names=['Selfridges & Co', 'JOLT', 'EL&N'], count=1),\n",
              " Row(city='New York City', locations=[[40.753621, -73.983265], [40.750497022729604, -73.99327286150431], [40.74226204193276, -73.98800611495972], [40.73883630073037, -73.99277694087336], [40.74610215801135, -73.98206990777314], [40.75267443042928, -73.97697960643174], [40.73491348804492, -74.00205073261284]], names=['Bryant Park', 'New York Penn Station', 'Madison Square Park', 'OOTOYA 大戸屋 (OOTOYA)', 'Pret A Manger', 'Grand Central Terminal', 'Partners Coffee Roasters'], count=3),\n",
              " Row(city='San Francisco', locations=[], names=[], count=3),\n",
              " Row(city='London', locations=[[51.51464, -0.152864], [51.51429953268523, -0.15159845352172852], [51.516185764675825, -0.14046166652284045]], names=['Selfridges & Co', 'EL&N', 'JOLT'], count=1),\n",
              " Row(city='Paris', locations=[[48.857005585002405, 2.351490065921098]], names=['Paris'], count=3)]"
            ]
          },
          "metadata": {
            "tags": []
          }
        },
        {
          "output_type": "display_data",
          "data": {
            "text/plain": [
              "[Row(city='London', locations=[[51.51464, -0.152864], [51.516185764675825, -0.14046166652284045], [51.51429953268523, -0.15159845352172852]], names=['Selfridges & Co', 'JOLT', 'EL&N'], count=2),\n",
              " Row(city='New York City', locations=[[40.753621, -73.983265], [40.750497022729604, -73.99327286150431], [40.74226204193276, -73.98800611495972], [40.73883630073037, -73.99277694087336], [40.74610215801135, -73.98206990777314], [40.75267443042928, -73.97697960643174], [40.73491348804492, -74.00205073261284]], names=['Bryant Park', 'New York Penn Station', 'Madison Square Park', 'OOTOYA 大戸屋 (OOTOYA)', 'Pret A Manger', 'Grand Central Terminal', 'Partners Coffee Roasters'], count=3),\n",
              " Row(city='San Francisco', locations=[], names=[], count=3),\n",
              " Row(city='London', locations=[[51.51464, -0.152864], [51.51429953268523, -0.15159845352172852], [51.516185764675825, -0.14046166652284045]], names=['Selfridges & Co', 'EL&N', 'JOLT'], count=1),\n",
              " Row(city='Paris', locations=[[48.857005585002405, 2.351490065921098]], names=['Paris'], count=3)]"
            ]
          },
          "metadata": {
            "tags": []
          }
        },
        {
          "output_type": "display_data",
          "data": {
            "text/plain": [
              "[Row(city='London', locations=[[51.51464, -0.152864], [51.516185764675825, -0.14046166652284045], [51.51429953268523, -0.15159845352172852]], names=['Selfridges & Co', 'JOLT', 'EL&N'], count=2),\n",
              " Row(city='New York City', locations=[[40.753621, -73.983265], [40.750497022729604, -73.99327286150431], [40.74226204193276, -73.98800611495972], [40.73883630073037, -73.99277694087336], [40.74610215801135, -73.98206990777314], [40.75267443042928, -73.97697960643174], [40.73491348804492, -74.00205073261284]], names=['Bryant Park', 'New York Penn Station', 'Madison Square Park', 'OOTOYA 大戸屋 (OOTOYA)', 'Pret A Manger', 'Grand Central Terminal', 'Partners Coffee Roasters'], count=3),\n",
              " Row(city='San Francisco', locations=[], names=[], count=3),\n",
              " Row(city='London', locations=[[51.51464, -0.152864], [51.51429953268523, -0.15159845352172852], [51.516185764675825, -0.14046166652284045]], names=['Selfridges & Co', 'EL&N', 'JOLT'], count=1),\n",
              " Row(city='Paris', locations=[[48.857005585002405, 2.351490065921098]], names=['Paris'], count=3)]"
            ]
          },
          "metadata": {
            "tags": []
          }
        },
        {
          "output_type": "display_data",
          "data": {
            "text/plain": [
              "[Row(city='London', locations=[[51.51464, -0.152864], [51.516185764675825, -0.14046166652284045], [51.51429953268523, -0.15159845352172852]], names=['Selfridges & Co', 'JOLT', 'EL&N'], count=2),\n",
              " Row(city='New York City', locations=[[40.753621, -73.983265], [40.750497022729604, -73.99327286150431], [40.74226204193276, -73.98800611495972], [40.73883630073037, -73.99277694087336], [40.74610215801135, -73.98206990777314], [40.75267443042928, -73.97697960643174], [40.73491348804492, -74.00205073261284]], names=['Bryant Park', 'New York Penn Station', 'Madison Square Park', 'OOTOYA 大戸屋 (OOTOYA)', 'Pret A Manger', 'Grand Central Terminal', 'Partners Coffee Roasters'], count=3),\n",
              " Row(city='San Francisco', locations=[], names=[], count=3),\n",
              " Row(city='London', locations=[[51.51464, -0.152864], [51.51429953268523, -0.15159845352172852], [51.516185764675825, -0.14046166652284045]], names=['Selfridges & Co', 'EL&N', 'JOLT'], count=1),\n",
              " Row(city='Paris', locations=[[48.857005585002405, 2.351490065921098]], names=['Paris'], count=3)]"
            ]
          },
          "metadata": {
            "tags": []
          }
        },
        {
          "output_type": "display_data",
          "data": {
            "text/plain": [
              "[Row(city='London', locations=[[51.51464, -0.152864], [51.516185764675825, -0.14046166652284045], [51.51429953268523, -0.15159845352172852]], names=['Selfridges & Co', 'JOLT', 'EL&N'], count=2),\n",
              " Row(city='New York City', locations=[[40.753621, -73.983265], [40.750497022729604, -73.99327286150431], [40.74226204193276, -73.98800611495972], [40.73883630073037, -73.99277694087336], [40.74610215801135, -73.98206990777314], [40.75267443042928, -73.97697960643174], [40.73491348804492, -74.00205073261284]], names=['Bryant Park', 'New York Penn Station', 'Madison Square Park', 'OOTOYA 大戸屋 (OOTOYA)', 'Pret A Manger', 'Grand Central Terminal', 'Partners Coffee Roasters'], count=3),\n",
              " Row(city='San Francisco', locations=[], names=[], count=3),\n",
              " Row(city='London', locations=[[51.51464, -0.152864], [51.51429953268523, -0.15159845352172852], [51.516185764675825, -0.14046166652284045]], names=['Selfridges & Co', 'EL&N', 'JOLT'], count=1),\n",
              " Row(city='Paris', locations=[[48.857005585002405, 2.351490065921098]], names=['Paris'], count=3)]"
            ]
          },
          "metadata": {
            "tags": []
          }
        },
        {
          "output_type": "display_data",
          "data": {
            "text/plain": [
              "[Row(city='London', locations=[[51.51464, -0.152864], [51.516185764675825, -0.14046166652284045], [51.51429953268523, -0.15159845352172852]], names=['Selfridges & Co', 'JOLT', 'EL&N'], count=2),\n",
              " Row(city='New York City', locations=[[40.753621, -73.983265], [40.750497022729604, -73.99327286150431], [40.74226204193276, -73.98800611495972], [40.73883630073037, -73.99277694087336], [40.74610215801135, -73.98206990777314], [40.75267443042928, -73.97697960643174], [40.73491348804492, -74.00205073261284]], names=['Bryant Park', 'New York Penn Station', 'Madison Square Park', 'OOTOYA 大戸屋 (OOTOYA)', 'Pret A Manger', 'Grand Central Terminal', 'Partners Coffee Roasters'], count=3),\n",
              " Row(city='San Francisco', locations=[], names=[], count=3),\n",
              " Row(city='London', locations=[[51.51464, -0.152864], [51.51429953268523, -0.15159845352172852], [51.516185764675825, -0.14046166652284045]], names=['Selfridges & Co', 'EL&N', 'JOLT'], count=1),\n",
              " Row(city='Paris', locations=[[48.857005585002405, 2.351490065921098]], names=['Paris'], count=3)]"
            ]
          },
          "metadata": {
            "tags": []
          }
        },
        {
          "output_type": "display_data",
          "data": {
            "text/plain": [
              "[Row(city='London', locations=[[51.51464, -0.152864], [51.516185764675825, -0.14046166652284045], [51.51429953268523, -0.15159845352172852]], names=['Selfridges & Co', 'JOLT', 'EL&N'], count=2),\n",
              " Row(city='New York City', locations=[[40.753621, -73.983265], [40.750497022729604, -73.99327286150431], [40.74226204193276, -73.98800611495972], [40.73883630073037, -73.99277694087336], [40.74610215801135, -73.98206990777314], [40.75267443042928, -73.97697960643174], [40.73491348804492, -74.00205073261284]], names=['Bryant Park', 'New York Penn Station', 'Madison Square Park', 'OOTOYA 大戸屋 (OOTOYA)', 'Pret A Manger', 'Grand Central Terminal', 'Partners Coffee Roasters'], count=3),\n",
              " Row(city='San Francisco', locations=[], names=[], count=3),\n",
              " Row(city='London', locations=[[51.51464, -0.152864], [51.51429953268523, -0.15159845352172852], [51.516185764675825, -0.14046166652284045]], names=['Selfridges & Co', 'EL&N', 'JOLT'], count=1),\n",
              " Row(city='Paris', locations=[[48.857005585002405, 2.351490065921098]], names=['Paris'], count=3)]"
            ]
          },
          "metadata": {
            "tags": []
          }
        },
        {
          "output_type": "display_data",
          "data": {
            "text/plain": [
              "[Row(city='London', locations=[[51.51464, -0.152864], [51.516185764675825, -0.14046166652284045], [51.51429953268523, -0.15159845352172852]], names=['Selfridges & Co', 'JOLT', 'EL&N'], count=2),\n",
              " Row(city='New York City', locations=[[40.753621, -73.983265], [40.750497022729604, -73.99327286150431], [40.74226204193276, -73.98800611495972], [40.73883630073037, -73.99277694087336], [40.74610215801135, -73.98206990777314], [40.75267443042928, -73.97697960643174], [40.73491348804492, -74.00205073261284]], names=['Bryant Park', 'New York Penn Station', 'Madison Square Park', 'OOTOYA 大戸屋 (OOTOYA)', 'Pret A Manger', 'Grand Central Terminal', 'Partners Coffee Roasters'], count=3),\n",
              " Row(city='San Francisco', locations=[], names=[], count=3),\n",
              " Row(city='London', locations=[[51.51464, -0.152864], [51.51429953268523, -0.15159845352172852], [51.516185764675825, -0.14046166652284045]], names=['Selfridges & Co', 'EL&N', 'JOLT'], count=1),\n",
              " Row(city='Paris', locations=[[48.857005585002405, 2.351490065921098]], names=['Paris'], count=3)]"
            ]
          },
          "metadata": {
            "tags": []
          }
        },
        {
          "output_type": "display_data",
          "data": {
            "text/plain": [
              "[Row(city='London', locations=[[51.51464, -0.152864], [51.516185764675825, -0.14046166652284045], [51.51429953268523, -0.15159845352172852]], names=['Selfridges & Co', 'JOLT', 'EL&N'], count=2),\n",
              " Row(city='New York City', locations=[[40.753621, -73.983265], [40.750497022729604, -73.99327286150431], [40.74226204193276, -73.98800611495972], [40.73883630073037, -73.99277694087336], [40.74610215801135, -73.98206990777314], [40.75267443042928, -73.97697960643174], [40.73491348804492, -74.00205073261284]], names=['Bryant Park', 'New York Penn Station', 'Madison Square Park', 'OOTOYA 大戸屋 (OOTOYA)', 'Pret A Manger', 'Grand Central Terminal', 'Partners Coffee Roasters'], count=3),\n",
              " Row(city='San Francisco', locations=[], names=[], count=3),\n",
              " Row(city='London', locations=[[51.51464, -0.152864], [51.51429953268523, -0.15159845352172852], [51.516185764675825, -0.14046166652284045]], names=['Selfridges & Co', 'EL&N', 'JOLT'], count=1),\n",
              " Row(city='Paris', locations=[[48.857005585002405, 2.351490065921098]], names=['Paris'], count=3)]"
            ]
          },
          "metadata": {
            "tags": []
          }
        },
        {
          "output_type": "display_data",
          "data": {
            "text/plain": [
              "[Row(city='London', locations=[[51.51464, -0.152864], [51.516185764675825, -0.14046166652284045], [51.51429953268523, -0.15159845352172852]], names=['Selfridges & Co', 'JOLT', 'EL&N'], count=2),\n",
              " Row(city='New York City', locations=[[40.753621, -73.983265], [40.750497022729604, -73.99327286150431], [40.74226204193276, -73.98800611495972], [40.73883630073037, -73.99277694087336], [40.74610215801135, -73.98206990777314], [40.75267443042928, -73.97697960643174], [40.73491348804492, -74.00205073261284]], names=['Bryant Park', 'New York Penn Station', 'Madison Square Park', 'OOTOYA 大戸屋 (OOTOYA)', 'Pret A Manger', 'Grand Central Terminal', 'Partners Coffee Roasters'], count=3),\n",
              " Row(city='San Francisco', locations=[], names=[], count=3),\n",
              " Row(city='London', locations=[[51.51464, -0.152864], [51.51429953268523, -0.15159845352172852], [51.516185764675825, -0.14046166652284045]], names=['Selfridges & Co', 'EL&N', 'JOLT'], count=1),\n",
              " Row(city='Paris', locations=[[48.857005585002405, 2.351490065921098]], names=['Paris'], count=3)]"
            ]
          },
          "metadata": {
            "tags": []
          }
        },
        {
          "output_type": "display_data",
          "data": {
            "text/plain": [
              "[Row(city='London', locations=[[51.51464, -0.152864], [51.516185764675825, -0.14046166652284045], [51.51429953268523, -0.15159845352172852]], names=['Selfridges & Co', 'JOLT', 'EL&N'], count=2),\n",
              " Row(city='New York City', locations=[[40.753621, -73.983265], [40.750497022729604, -73.99327286150431], [40.74226204193276, -73.98800611495972], [40.73883630073037, -73.99277694087336], [40.74610215801135, -73.98206990777314], [40.75267443042928, -73.97697960643174], [40.73491348804492, -74.00205073261284]], names=['Bryant Park', 'New York Penn Station', 'Madison Square Park', 'OOTOYA 大戸屋 (OOTOYA)', 'Pret A Manger', 'Grand Central Terminal', 'Partners Coffee Roasters'], count=3),\n",
              " Row(city='San Francisco', locations=[], names=[], count=3),\n",
              " Row(city='London', locations=[[51.51464, -0.152864], [51.51429953268523, -0.15159845352172852], [51.516185764675825, -0.14046166652284045]], names=['Selfridges & Co', 'EL&N', 'JOLT'], count=1),\n",
              " Row(city='Paris', locations=[[48.857005585002405, 2.351490065921098]], names=['Paris'], count=3)]"
            ]
          },
          "metadata": {
            "tags": []
          }
        },
        {
          "output_type": "display_data",
          "data": {
            "text/plain": [
              "[Row(city='London', locations=[[51.51464, -0.152864], [51.516185764675825, -0.14046166652284045], [51.51429953268523, -0.15159845352172852]], names=['Selfridges & Co', 'JOLT', 'EL&N'], count=2),\n",
              " Row(city='New York City', locations=[[40.753621, -73.983265], [40.750497022729604, -73.99327286150431], [40.74226204193276, -73.98800611495972], [40.73883630073037, -73.99277694087336], [40.74610215801135, -73.98206990777314], [40.75267443042928, -73.97697960643174], [40.73491348804492, -74.00205073261284]], names=['Bryant Park', 'New York Penn Station', 'Madison Square Park', 'OOTOYA 大戸屋 (OOTOYA)', 'Pret A Manger', 'Grand Central Terminal', 'Partners Coffee Roasters'], count=3),\n",
              " Row(city='San Francisco', locations=[], names=[], count=3),\n",
              " Row(city='London', locations=[[51.51464, -0.152864], [51.51429953268523, -0.15159845352172852], [51.516185764675825, -0.14046166652284045]], names=['Selfridges & Co', 'EL&N', 'JOLT'], count=1),\n",
              " Row(city='Paris', locations=[[48.857005585002405, 2.351490065921098]], names=['Paris'], count=3)]"
            ]
          },
          "metadata": {
            "tags": []
          }
        },
        {
          "output_type": "display_data",
          "data": {
            "text/plain": [
              "[Row(city='London', locations=[[51.51464, -0.152864], [51.516185764675825, -0.14046166652284045], [51.51429953268523, -0.15159845352172852]], names=['Selfridges & Co', 'JOLT', 'EL&N'], count=2),\n",
              " Row(city='New York City', locations=[[40.753621, -73.983265], [40.750497022729604, -73.99327286150431], [40.74226204193276, -73.98800611495972], [40.73883630073037, -73.99277694087336], [40.74610215801135, -73.98206990777314], [40.75267443042928, -73.97697960643174], [40.73491348804492, -74.00205073261284]], names=['Bryant Park', 'New York Penn Station', 'Madison Square Park', 'OOTOYA 大戸屋 (OOTOYA)', 'Pret A Manger', 'Grand Central Terminal', 'Partners Coffee Roasters'], count=3),\n",
              " Row(city='San Francisco', locations=[], names=[], count=3),\n",
              " Row(city='London', locations=[[51.51464, -0.152864], [51.51429953268523, -0.15159845352172852], [51.516185764675825, -0.14046166652284045]], names=['Selfridges & Co', 'EL&N', 'JOLT'], count=1),\n",
              " Row(city='Paris', locations=[[48.857005585002405, 2.351490065921098]], names=['Paris'], count=3)]"
            ]
          },
          "metadata": {
            "tags": []
          }
        },
        {
          "output_type": "error",
          "ename": "KeyboardInterrupt",
          "evalue": "ignored",
          "traceback": [
            "\u001b[0;31m---------------------------------------------------------------------------\u001b[0m",
            "\u001b[0;31mKeyboardInterrupt\u001b[0m                         Traceback (most recent call last)",
            "\u001b[0;32m<ipython-input-37-0eeae7db2cb5>\u001b[0m in \u001b[0;36m<module>\u001b[0;34m()\u001b[0m\n\u001b[1;32m      2\u001b[0m     \u001b[0mstreamingLocationsDF\u001b[0m \u001b[0;34m=\u001b[0m \u001b[0mspark\u001b[0m\u001b[0;34m.\u001b[0m\u001b[0msql\u001b[0m\u001b[0;34m(\u001b[0m\u001b[0;34m\"select * from trending_locations\"\u001b[0m\u001b[0;34m)\u001b[0m\u001b[0;34m.\u001b[0m\u001b[0mcollect\u001b[0m\u001b[0;34m(\u001b[0m\u001b[0;34m)\u001b[0m\u001b[0;34m\u001b[0m\u001b[0;34m\u001b[0m\u001b[0m\n\u001b[1;32m      3\u001b[0m     \u001b[0mdisplay\u001b[0m\u001b[0;34m(\u001b[0m\u001b[0mstreamingLocationsDF\u001b[0m\u001b[0;34m)\u001b[0m\u001b[0;34m\u001b[0m\u001b[0;34m\u001b[0m\u001b[0m\n\u001b[0;32m----> 4\u001b[0;31m     \u001b[0mtime\u001b[0m\u001b[0;34m.\u001b[0m\u001b[0msleep\u001b[0m\u001b[0;34m(\u001b[0m\u001b[0;36m3\u001b[0m\u001b[0;34m)\u001b[0m\u001b[0;34m\u001b[0m\u001b[0;34m\u001b[0m\u001b[0m\n\u001b[0m",
            "\u001b[0;31mKeyboardInterrupt\u001b[0m: "
          ]
        }
      ]
    },
    {
      "cell_type": "code",
      "metadata": {
        "id": "YQBWnRjPrWgK",
        "colab_type": "code",
        "colab": {
          "base_uri": "https://localhost:8080/",
          "height": 1000
        },
        "outputId": "1875c94c-c860-4877-e5bd-56a56e56fde9"
      },
      "source": [
        "for r in streamingLocationsDF.collect():\n",
        "  for v in (r.response.venues):\n",
        "    print(v.name)\n",
        "    print((v.location.lat, v.location.lng))"
      ],
      "execution_count": 33,
      "outputs": [
        {
          "output_type": "stream",
          "text": [
            "Selfridges & Co\n",
            "(51.51464, -0.152864)\n",
            "JOLT\n",
            "(51.516185764675825, -0.14046166652284045)\n",
            "EL&N\n",
            "(51.51429953268523, -0.15159845352172852)\n",
            "Piccadilly Circus\n",
            "(51.50996110016709, -0.1346522569656372)\n",
            "Mayfair\n",
            "(51.51135999349115, -0.1472640037536621)\n",
            "Ferdi\n",
            "(51.50650181288355, -0.14646190547074883)\n",
            "EL&N\n",
            "(51.506815937331424, -0.15188813209533691)\n",
            "Selfridges & Co\n",
            "(51.51464, -0.152864)\n",
            "JOLT\n",
            "(51.516185764675825, -0.14046166652284045)\n",
            "EL&N\n",
            "(51.51429953268523, -0.15159845352172852)\n",
            "Piccadilly Circus\n",
            "(51.50996110016709, -0.1346522569656372)\n",
            "London\n",
            "(51.50767403407925, -0.12788772583007812)\n",
            "Ferdi\n",
            "(51.50650181288355, -0.14646190547074883)\n",
            "New York Penn Station\n",
            "(40.75032192413809, -73.99280227613797)\n",
            "Bryant Park\n",
            "(40.753621, -73.983265)\n",
            "Grand Central Terminal\n",
            "(40.75267443042928, -73.97697960643174)\n",
            "Go! Go! Curry!\n",
            "(40.741295408672435, -73.99658313107955)\n",
            "Bryant Park\n",
            "(40.753621, -73.983265)\n",
            "Washington Square Park\n",
            "(40.73081579656163, -73.9974582195282)\n",
            "Go! Go! Curry!\n",
            "(40.741295408672435, -73.99658313107955)\n",
            "Madison Square Park\n",
            "(40.74226204193276, -73.98800611495972)\n",
            "Bryant Park\n",
            "(40.753621, -73.983265)\n",
            "Washington Square Park\n",
            "(40.73081579656163, -73.9974582195282)\n",
            "Go! Go! Curry!\n",
            "(40.741295408672435, -73.99658313107955)\n",
            "Madison Square Park\n",
            "(40.74226204193276, -73.98800611495972)\n",
            "Bryant Park\n",
            "(40.753621, -73.983265)\n",
            "Washington Square Park\n",
            "(40.73081579656163, -73.9974582195282)\n",
            "Go! Go! Curry!\n",
            "(40.741295408672435, -73.99658313107955)\n",
            "Madison Square Park\n",
            "(40.74226204193276, -73.98800611495972)\n",
            "Selfridges & Co\n",
            "(51.51464, -0.152864)\n",
            "JOLT\n",
            "(51.516185764675825, -0.14046166652284045)\n",
            "EL&N\n",
            "(51.51429953268523, -0.15159845352172852)\n",
            "Piccadilly Circus\n",
            "(51.50996110016709, -0.1346522569656372)\n",
            "Ferdi\n",
            "(51.50650181288355, -0.14646190547074883)\n",
            "Selfridges & Co\n",
            "(51.51464, -0.152864)\n",
            "JOLT\n",
            "(51.516185764675825, -0.14046166652284045)\n",
            "EL&N\n",
            "(51.51429953268523, -0.15159845352172852)\n",
            "Piccadilly Circus\n",
            "(51.50996110016709, -0.1346522569656372)\n",
            "Ferdi\n",
            "(51.50650181288355, -0.14646190547074883)\n",
            "New York Penn Station\n",
            "(40.75032192413809, -73.99280227613797)\n",
            "Go! Go! Curry!\n",
            "(40.741295408672435, -73.99658313107955)\n",
            "Bryant Park\n",
            "(40.753621, -73.983265)\n",
            "Bryant Park\n",
            "(40.753621, -73.983265)\n",
            "Times Square\n",
            "(40.757658565803446, -73.98577205244833)\n",
            "Madison Square Park\n",
            "(40.74226204193276, -73.98800611495972)\n",
            "Selfridges & Co\n",
            "(51.51464, -0.152864)\n",
            "JOLT\n",
            "(51.516185764675825, -0.14046166652284045)\n",
            "EL&N\n",
            "(51.51429953268523, -0.15159845352172852)\n",
            "Musée du Louvre\n",
            "(48.86084691113991, 2.336440086364746)\n",
            "Paris\n",
            "(48.857005585002405, 2.351490065921098)\n",
            "Paris\n",
            "(48.857005585002405, 2.351490065921098)\n",
            "Musée du Louvre\n",
            "(48.86084691113991, 2.336440086364746)\n",
            "Paris\n",
            "(48.857005585002405, 2.351490065921098)\n",
            "Paris\n",
            "(48.857005585002405, 2.351490065921098)\n",
            "Paris\n",
            "(48.857005585002405, 2.351490065921098)\n"
          ],
          "name": "stdout"
        }
      ]
    },
    {
      "cell_type": "code",
      "metadata": {
        "id": "-W75icy6xZ1F",
        "colab_type": "code",
        "colab": {}
      },
      "source": [
        "query.stop()"
      ],
      "execution_count": 0,
      "outputs": []
    },
    {
      "cell_type": "code",
      "metadata": {
        "id": "fS_WobAnsIhq",
        "colab_type": "code",
        "colab": {}
      },
      "source": [
        "staticInputDF"
      ],
      "execution_count": 0,
      "outputs": []
    }
  ]
}