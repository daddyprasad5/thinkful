{
 "cells": [
  {
   "cell_type": "markdown",
   "metadata": {},
   "source": [
    "# Summary Statistics\n",
    "This workbook contains exercises for the summary statistics module of the Thinkful data science course. "
   ]
  },
  {
   "cell_type": "code",
   "execution_count": 53,
   "metadata": {},
   "outputs": [],
   "source": [
    "import pandas as pd\n",
    "import numpy as np\n",
    "import statistics\n",
    "%matplotlib inline"
   ]
  },
  {
   "cell_type": "markdown",
   "metadata": {},
   "source": [
    "### Problem 1: \n",
    "Greg was 14, Marcia was 12, Peter was 11, Jan was 10, Bobby was 8, and Cindy was 6 when they started playing the Brady kids on The Brady Bunch. Cousin Oliver was 8 years old when he joined the show. What are the mean, median, and mode of the kids' ages when they first appeared on the show? What are the variance, standard deviation, and standard error?"
   ]
  },
  {
   "cell_type": "code",
   "execution_count": 74,
   "metadata": {},
   "outputs": [
    {
     "name": "stdout",
     "output_type": "stream",
     "text": [
      "        age\n",
      "Greg     14\n",
      "Marcia   12\n",
      "Peter    11\n",
      "Jan      10\n",
      "Bobby     8\n",
      "Oliver    8\n",
      "Cindy     6\n",
      "               age\n",
      "count     7.000000\n",
      "mean      9.857143\n",
      "std       2.734262\n",
      "min       6.000000\n",
      "25%       8.000000\n",
      "50%      10.000000\n",
      "75%      11.500000\n",
      "max      14.000000\n",
      "mode      8.000000\n",
      "var       7.476190\n",
      "std_err   1.033454\n"
     ]
    }
   ],
   "source": [
    "def init_bradies():\n",
    "    df = pd.DataFrame()\n",
    "    df['age'] = [14,12,11,10,8,8,6]\n",
    "    df.index = ['Greg','Marcia','Peter','Jan','Bobby','Oliver','Cindy']\n",
    "    return df\n",
    "\n",
    "bradies = init_bradies()\n",
    "    \n",
    "print(bradies)\n",
    "\n",
    "def age_summary(df_with_ages): #accepts any dataframe with a column of ints called 'age'\n",
    "    \n",
    "    #describe gets a bunch of the statistics required\n",
    "    ages_described = df_with_ages.describe()\n",
    "\n",
    "    #let's add the rest of the summary stats requested\n",
    "    #(median is the same as the 50th percentile, so not added)\n",
    "    try: ages_described.loc['mode'] = [statistics.mode(df_with_ages['age'])]\n",
    "    except: StatisticsError: ages_described.loc['mode'] = None\n",
    "    ages_described.loc['var'] = df_with_ages['age'].var()\n",
    "    ages_described.loc['std_err'] = bradies_described.loc['std'][0] / np.sqrt(len(df_with_ages['age']))\n",
    "    \n",
    "    return ages_described\n",
    "\n",
    "starting_age_summary = age_summary(bradies)\n",
    "\n",
    "print(starting_age_summary)"
   ]
  },
  {
   "cell_type": "markdown",
   "metadata": {},
   "source": [
    "### Problem 2\n",
    "Using these estimates, if you had to choose only one estimate of central tendency and one estimate of variance to describe the data, which would you pick and why?"
   ]
  },
  {
   "cell_type": "markdown",
   "metadata": {},
   "source": [
    "I would probably choose the median as the measure of central tendency of a small list of childrens' ages like this, because most likely one would be interested in the age of the middle child rather than the artithmetic average.  \n",
    "\n",
    "However, if someone asked for **both** the central tendency and estimate of variation, I'd give the mean and standard deviation, since that combination gives you a lot of information about the distribution of ages.    "
   ]
  },
  {
   "cell_type": "markdown",
   "metadata": {},
   "source": [
    "### Problem 3\n",
    "Next, Cindy has a birthday. Update your estimates- what changed, and what didn't?"
   ]
  },
  {
   "cell_type": "code",
   "execution_count": 62,
   "metadata": {},
   "outputs": [
    {
     "name": "stdout",
     "output_type": "stream",
     "text": [
      "post birthday summary: \n",
      "               age\n",
      "count     7.000000\n",
      "mean     10.000000\n",
      "std       2.516611\n",
      "min       7.000000\n",
      "25%       8.000000\n",
      "50%      10.000000\n",
      "75%      11.500000\n",
      "max      14.000000\n",
      "mode      8.000000\n",
      "var       6.333333\n",
      "std_err   1.033454\n",
      "\n",
      "\n",
      "change assessment: \n",
      "count      0.000000\n",
      "mean      -0.142857\n",
      "std        0.217651\n",
      "min       -1.000000\n",
      "25%        0.000000\n",
      "50%        0.000000\n",
      "75%        0.000000\n",
      "max        0.000000\n",
      "mode       0.000000\n",
      "var        1.142857\n",
      "std_err    0.000000\n",
      "Name: age, dtype: float64\n"
     ]
    }
   ],
   "source": [
    "bradies = init_bradies()\n",
    "bradies.loc['Cindy'][0] = bradies.loc['Cindy'][0] + 1\n",
    "post_birthday = age_summary(bradies)\n",
    "change_assessment = starting_age_summary['age'] - post_birthday['age']\n",
    "print('post birthday summary: ')\n",
    "print(post_birthday)\n",
    "print('\\n')\n",
    "print('change assessment: ')\n",
    "print(change_assessment)\n"
   ]
  },
  {
   "cell_type": "markdown",
   "metadata": {},
   "source": [
    "the mean, minimum (cindy was the youngest) and the measures of variance (std, var) all changes.  "
   ]
  },
  {
   "cell_type": "markdown",
   "metadata": {},
   "source": [
    "### Problem 4\n",
    "Nobody likes Cousin Oliver. Maybe the network should have used an even younger actor. Replace Cousin Oliver with 1-year-old Jessica, then recalculate again. Does this change your choice of central tendency or variance estimation methods?"
   ]
  },
  {
   "cell_type": "code",
   "execution_count": 75,
   "metadata": {},
   "outputs": [
    {
     "name": "stdout",
     "output_type": "stream",
     "text": [
      "post Jessica summary: \n",
      "               age\n",
      "count     7.000000\n",
      "mean      8.857143\n",
      "std       4.336995\n",
      "min       1.000000\n",
      "25%       7.000000\n",
      "50%      10.000000\n",
      "75%      11.500000\n",
      "max      14.000000\n",
      "var      18.809524\n",
      "std_err   1.033454\n",
      "\n",
      "\n",
      "change assessment: \n",
      "25%         1.000000\n",
      "50%         0.000000\n",
      "75%         0.000000\n",
      "count       0.000000\n",
      "max         0.000000\n",
      "mean        1.000000\n",
      "min         5.000000\n",
      "mode             NaN\n",
      "std        -1.602732\n",
      "std_err     0.000000\n",
      "var       -11.333333\n",
      "Name: age, dtype: float64\n"
     ]
    }
   ],
   "source": [
    "bradies = init_bradies()\n",
    "bradies = bradies.drop('Oliver')\n",
    "bradies.loc['Jessica'] = 1\n",
    "post_Jessica = age_summary(bradies)\n",
    "change_assessment = starting_age_summary['age'] - post_Jessica['age']\n",
    "\n",
    "print('post Jessica summary: ')\n",
    "print(post_Jessica)\n",
    "print('\\n')\n",
    "print('change assessment: ')\n",
    "print(change_assessment)"
   ]
  },
  {
   "cell_type": "markdown",
   "metadata": {},
   "source": [
    "Nope.  still like my previous answer. "
   ]
  },
  {
   "cell_type": "markdown",
   "metadata": {},
   "source": [
    "### Problem 5\n",
    "On the 50th anniversary of The Brady Bunch, four different magazines asked their readers whether they were fans of the show. The answers were: TV Guide 20% fans Entertainment Weekly 23% fans Pop Culture Today 17% fans SciPhi Phanatic 5% fans\n",
    "\n",
    "Based on these numbers, what percentage of adult Americans would you estimate were Brady Bunch fans on the 50th anniversary of the show?"
   ]
  },
  {
   "cell_type": "markdown",
   "metadata": {},
   "source": [
    "[Wikipedia](https://en.wikipedia.org/wiki/List_of_magazines_by_circulation#United_States) tells me that TV Guide and Entertainment Weekly both have wide distribution in the US (number 40 and 44 respectively) while the others were not in the top 100.  So I would use the average of their poll results (21.5%) as my starting estimate.  I might call that a ceiling, as those magazines are geared towards readers who are likely to be TV watchers and therefore represent a sub-population more likely to be Brady Bunch fans. "
   ]
  }
 ],
 "metadata": {
  "kernelspec": {
   "display_name": "Python 3",
   "language": "python",
   "name": "python3"
  },
  "language_info": {
   "codemirror_mode": {
    "name": "ipython",
    "version": 3
   },
   "file_extension": ".py",
   "mimetype": "text/x-python",
   "name": "python",
   "nbconvert_exporter": "python",
   "pygments_lexer": "ipython3",
   "version": "3.7.3"
  }
 },
 "nbformat": 4,
 "nbformat_minor": 2
}
