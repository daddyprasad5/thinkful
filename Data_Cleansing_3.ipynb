{
 "cells": [
  {
   "cell_type": "markdown",
   "metadata": {},
   "source": [
    "This is an assignment for my thinkful data science course - \"Data Cleaning 2\"\n",
    "Raj Prasad\n",
    "May 2019\n",
    "\n",
    "\n",
    "[html version](https://daddyprasad5.github.io/Data_Cleaning_23.html) - with all the code hidden away for a quick read\n",
    "\n",
    "[jupyter notebook version](https://github.com/daddyprasad5/thinkful/blob/master/Data_Cleaning_3.ipynb) - with all the code exposed in an interactive notebook"
   ]
  },
  {
   "cell_type": "code",
   "execution_count": 1,
   "metadata": {
    "code_folding": []
   },
   "outputs": [],
   "source": [
    "#imports\n",
    "import pandas as pd\n",
    "import numpy as np\n",
    "from sqlalchemy import create_engine\n",
    "import warnings\n",
    "import math\n",
    "import matplotlib.pyplot as plt\n",
    "import seaborn as sns\n",
    "from scipy.stats import zscore\n",
    "from scipy.stats.mstats import winsorize\n",
    "\n",
    "\n",
    "\n",
    "%matplotlib inline"
   ]
  },
  {
   "cell_type": "code",
   "execution_count": 2,
   "metadata": {
    "code_folding": [
     0
    ]
   },
   "outputs": [],
   "source": [
    "#data load\n",
    "warnings.filterwarnings('ignore')\n",
    "\n",
    "postgres_user = 'dsbc_student'\n",
    "postgres_pw = '7*.8G9QH21'\n",
    "postgres_host = '142.93.121.174'\n",
    "postgres_port = '5432'\n",
    "postgres_db = 'useducation'\n",
    "\n",
    "engine = create_engine('postgresql://{}:{}@{}:{}/{}'.format(\n",
    "    postgres_user, postgres_pw, postgres_host, postgres_port, postgres_db))\n",
    "\n",
    "raw_used_df = pd.read_sql_query('select * from useducation',con=engine)\n",
    "\n",
    "# no need for an open connection, \n",
    "# as we're only doing a single query\n",
    "engine.dispose()"
   ]
  },
  {
   "cell_type": "code",
   "execution_count": 3,
   "metadata": {
    "code_folding": [
     0
    ]
   },
   "outputs": [
    {
     "data": {
      "text/html": [
       "<div>\n",
       "<style scoped>\n",
       "    .dataframe tbody tr th:only-of-type {\n",
       "        vertical-align: middle;\n",
       "    }\n",
       "\n",
       "    .dataframe tbody tr th {\n",
       "        vertical-align: top;\n",
       "    }\n",
       "\n",
       "    .dataframe thead th {\n",
       "        text-align: right;\n",
       "    }\n",
       "</style>\n",
       "<table border=\"1\" class=\"dataframe\">\n",
       "  <thead>\n",
       "    <tr style=\"text-align: right;\">\n",
       "      <th></th>\n",
       "      <th>0</th>\n",
       "      <th>1</th>\n",
       "    </tr>\n",
       "  </thead>\n",
       "  <tbody>\n",
       "    <tr>\n",
       "      <th>0</th>\n",
       "      <td>PRIMARY_KEY</td>\n",
       "      <td>0</td>\n",
       "    </tr>\n",
       "    <tr>\n",
       "      <th>1</th>\n",
       "      <td>STATE</td>\n",
       "      <td>0</td>\n",
       "    </tr>\n",
       "    <tr>\n",
       "      <th>2</th>\n",
       "      <td>YEAR</td>\n",
       "      <td>0</td>\n",
       "    </tr>\n",
       "    <tr>\n",
       "      <th>3</th>\n",
       "      <td>ENROLL</td>\n",
       "      <td>0.176273</td>\n",
       "    </tr>\n",
       "    <tr>\n",
       "      <th>4</th>\n",
       "      <td>TOTAL_REVENUE</td>\n",
       "      <td>0.142091</td>\n",
       "    </tr>\n",
       "    <tr>\n",
       "      <th>5</th>\n",
       "      <td>FEDERAL_REVENUE</td>\n",
       "      <td>0.142091</td>\n",
       "    </tr>\n",
       "    <tr>\n",
       "      <th>6</th>\n",
       "      <td>STATE_REVENUE</td>\n",
       "      <td>0.142091</td>\n",
       "    </tr>\n",
       "    <tr>\n",
       "      <th>7</th>\n",
       "      <td>LOCAL_REVENUE</td>\n",
       "      <td>0.142091</td>\n",
       "    </tr>\n",
       "    <tr>\n",
       "      <th>8</th>\n",
       "      <td>TOTAL_EXPENDITURE</td>\n",
       "      <td>0.142091</td>\n",
       "    </tr>\n",
       "    <tr>\n",
       "      <th>9</th>\n",
       "      <td>INSTRUCTION_EXPENDITURE</td>\n",
       "      <td>0.142091</td>\n",
       "    </tr>\n",
       "    <tr>\n",
       "      <th>10</th>\n",
       "      <td>SUPPORT_SERVICES_EXPENDITURE</td>\n",
       "      <td>0.142091</td>\n",
       "    </tr>\n",
       "    <tr>\n",
       "      <th>11</th>\n",
       "      <td>OTHER_EXPENDITURE</td>\n",
       "      <td>0.176273</td>\n",
       "    </tr>\n",
       "    <tr>\n",
       "      <th>12</th>\n",
       "      <td>CAPITAL_OUTLAY_EXPENDITURE</td>\n",
       "      <td>0.142091</td>\n",
       "    </tr>\n",
       "    <tr>\n",
       "      <th>13</th>\n",
       "      <td>GRADES_PK_G</td>\n",
       "      <td>0.115952</td>\n",
       "    </tr>\n",
       "    <tr>\n",
       "      <th>14</th>\n",
       "      <td>GRADES_KG_G</td>\n",
       "      <td>0.0884718</td>\n",
       "    </tr>\n",
       "    <tr>\n",
       "      <th>15</th>\n",
       "      <td>GRADES_4_G</td>\n",
       "      <td>0.0878016</td>\n",
       "    </tr>\n",
       "    <tr>\n",
       "      <th>16</th>\n",
       "      <td>GRADES_8_G</td>\n",
       "      <td>0.0878016</td>\n",
       "    </tr>\n",
       "    <tr>\n",
       "      <th>17</th>\n",
       "      <td>GRADES_12_G</td>\n",
       "      <td>0.0878016</td>\n",
       "    </tr>\n",
       "    <tr>\n",
       "      <th>18</th>\n",
       "      <td>GRADES_1_8_G</td>\n",
       "      <td>0.0878016</td>\n",
       "    </tr>\n",
       "    <tr>\n",
       "      <th>19</th>\n",
       "      <td>GRADES_9_12_G</td>\n",
       "      <td>0.0878016</td>\n",
       "    </tr>\n",
       "    <tr>\n",
       "      <th>20</th>\n",
       "      <td>GRADES_ALL_G</td>\n",
       "      <td>0.115952</td>\n",
       "    </tr>\n",
       "    <tr>\n",
       "      <th>21</th>\n",
       "      <td>AVG_MATH_4_SCORE</td>\n",
       "      <td>0.640751</td>\n",
       "    </tr>\n",
       "    <tr>\n",
       "      <th>22</th>\n",
       "      <td>AVG_MATH_8_SCORE</td>\n",
       "      <td>0.643432</td>\n",
       "    </tr>\n",
       "    <tr>\n",
       "      <th>23</th>\n",
       "      <td>AVG_READING_4_SCORE</td>\n",
       "      <td>0.642761</td>\n",
       "    </tr>\n",
       "    <tr>\n",
       "      <th>24</th>\n",
       "      <td>AVG_READING_8_SCORE</td>\n",
       "      <td>0.66622</td>\n",
       "    </tr>\n",
       "  </tbody>\n",
       "</table>\n",
       "</div>"
      ],
      "text/plain": [
       "                               0          1\n",
       "0                    PRIMARY_KEY          0\n",
       "1                          STATE          0\n",
       "2                           YEAR          0\n",
       "3                         ENROLL   0.176273\n",
       "4                  TOTAL_REVENUE   0.142091\n",
       "5                FEDERAL_REVENUE   0.142091\n",
       "6                  STATE_REVENUE   0.142091\n",
       "7                  LOCAL_REVENUE   0.142091\n",
       "8              TOTAL_EXPENDITURE   0.142091\n",
       "9        INSTRUCTION_EXPENDITURE   0.142091\n",
       "10  SUPPORT_SERVICES_EXPENDITURE   0.142091\n",
       "11             OTHER_EXPENDITURE   0.176273\n",
       "12    CAPITAL_OUTLAY_EXPENDITURE   0.142091\n",
       "13                   GRADES_PK_G   0.115952\n",
       "14                   GRADES_KG_G  0.0884718\n",
       "15                    GRADES_4_G  0.0878016\n",
       "16                    GRADES_8_G  0.0878016\n",
       "17                   GRADES_12_G  0.0878016\n",
       "18                  GRADES_1_8_G  0.0878016\n",
       "19                 GRADES_9_12_G  0.0878016\n",
       "20                  GRADES_ALL_G   0.115952\n",
       "21              AVG_MATH_4_SCORE   0.640751\n",
       "22              AVG_MATH_8_SCORE   0.643432\n",
       "23           AVG_READING_4_SCORE   0.642761\n",
       "24           AVG_READING_8_SCORE    0.66622"
      ]
     },
     "execution_count": 3,
     "metadata": {},
     "output_type": "execute_result"
    }
   ],
   "source": [
    "#find the missing values\n",
    "\n",
    "used_df = raw_used_df.copy()\n",
    "\n",
    "n = len(used_df)\n",
    "cols = used_df.columns\n",
    "num_null = [len(used_df[used_df[col].isnull()]) / n for col in used_df]\n",
    "pd.DataFrame([cols, num_null]).transpose()"
   ]
  },
  {
   "cell_type": "code",
   "execution_count": 4,
   "metadata": {
    "code_folding": [
     0,
     22
    ]
   },
   "outputs": [],
   "source": [
    "#fill the missing values\n",
    "\n",
    "#interpolate missing values, as possible\n",
    "\n",
    "col_list = ['ENROLL', 'TOTAL_REVENUE',\n",
    "       'FEDERAL_REVENUE', 'STATE_REVENUE', 'LOCAL_REVENUE',\n",
    "       'TOTAL_EXPENDITURE', 'INSTRUCTION_EXPENDITURE',\n",
    "       'SUPPORT_SERVICES_EXPENDITURE', 'OTHER_EXPENDITURE',\n",
    "       'CAPITAL_OUTLAY_EXPENDITURE', 'GRADES_PK_G', 'GRADES_KG_G',\n",
    "       'GRADES_4_G', 'GRADES_8_G', 'GRADES_12_G', 'GRADES_1_8_G',\n",
    "       'GRADES_9_12_G', 'GRADES_ALL_G', 'AVG_MATH_4_SCORE', 'AVG_MATH_8_SCORE',\n",
    "       'AVG_READING_4_SCORE', 'AVG_READING_8_SCORE']\n",
    "\n",
    "#add a key and change sort order to the most logical sequence \n",
    "# for interpolation: first by state and  then by year\n",
    "used_df[\"new_pk\"] = used_df.STATE + used_df.YEAR.map(str)\n",
    "used_df.sort_values(by=\"new_pk\").head()\n",
    "\n",
    "for col in col_list:\n",
    "    used_df.loc[:, col].interpolate(inplace=True)\n",
    "    \n",
    "#fill with typical proportion of related field for a few remaining NaNs\n",
    "def fill_with_relative_proportion(df, from_col, to_col): \n",
    "    \"\"\"Fills NaNs in the given dataframe to_col with the median to/from proportion \n",
    "    (seen in non-nan columns) multipled by the from_col value\"\"\"\n",
    "    \n",
    "    not_null_df = used_df.loc[used_df[to_col].notnull()]\n",
    "    ratios = not_null_df[to_col] / df[from_col] \n",
    "    ratio = ratios.median()\n",
    "\n",
    "    for i, row in used_df.iterrows():\n",
    "        if np.isnan(row[to_col]): \n",
    "            from_value = used_df.get_value(i, from_col)\n",
    "            used_df.set_value(i, to_col, from_value * ratio)\n",
    "            \n",
    "fill_with_relative_proportion(used_df, \"AVG_READING_4_SCORE\", \"AVG_READING_8_SCORE\")\n",
    "fill_with_relative_proportion(used_df, \"GRADES_ALL_G\", \"ENROLL\")\n",
    "fill_with_relative_proportion(used_df, \"TOTAL_EXPENDITURE\", \"OTHER_EXPENDITURE\")"
   ]
  },
  {
   "cell_type": "code",
   "execution_count": 5,
   "metadata": {
    "code_folding": []
   },
   "outputs": [
    {
     "data": {
      "text/html": [
       "<div>\n",
       "<style scoped>\n",
       "    .dataframe tbody tr th:only-of-type {\n",
       "        vertical-align: middle;\n",
       "    }\n",
       "\n",
       "    .dataframe tbody tr th {\n",
       "        vertical-align: top;\n",
       "    }\n",
       "\n",
       "    .dataframe thead th {\n",
       "        text-align: right;\n",
       "    }\n",
       "</style>\n",
       "<table border=\"1\" class=\"dataframe\">\n",
       "  <thead>\n",
       "    <tr style=\"text-align: right;\">\n",
       "      <th></th>\n",
       "      <th>0</th>\n",
       "      <th>1</th>\n",
       "    </tr>\n",
       "  </thead>\n",
       "  <tbody>\n",
       "    <tr>\n",
       "      <th>0</th>\n",
       "      <td>PRIMARY_KEY</td>\n",
       "      <td>0</td>\n",
       "    </tr>\n",
       "    <tr>\n",
       "      <th>1</th>\n",
       "      <td>STATE</td>\n",
       "      <td>0</td>\n",
       "    </tr>\n",
       "    <tr>\n",
       "      <th>2</th>\n",
       "      <td>YEAR</td>\n",
       "      <td>0</td>\n",
       "    </tr>\n",
       "    <tr>\n",
       "      <th>3</th>\n",
       "      <td>ENROLL</td>\n",
       "      <td>0</td>\n",
       "    </tr>\n",
       "    <tr>\n",
       "      <th>4</th>\n",
       "      <td>TOTAL_REVENUE</td>\n",
       "      <td>0</td>\n",
       "    </tr>\n",
       "    <tr>\n",
       "      <th>5</th>\n",
       "      <td>FEDERAL_REVENUE</td>\n",
       "      <td>0</td>\n",
       "    </tr>\n",
       "    <tr>\n",
       "      <th>6</th>\n",
       "      <td>STATE_REVENUE</td>\n",
       "      <td>0</td>\n",
       "    </tr>\n",
       "    <tr>\n",
       "      <th>7</th>\n",
       "      <td>LOCAL_REVENUE</td>\n",
       "      <td>0</td>\n",
       "    </tr>\n",
       "    <tr>\n",
       "      <th>8</th>\n",
       "      <td>TOTAL_EXPENDITURE</td>\n",
       "      <td>0</td>\n",
       "    </tr>\n",
       "    <tr>\n",
       "      <th>9</th>\n",
       "      <td>INSTRUCTION_EXPENDITURE</td>\n",
       "      <td>0</td>\n",
       "    </tr>\n",
       "    <tr>\n",
       "      <th>10</th>\n",
       "      <td>SUPPORT_SERVICES_EXPENDITURE</td>\n",
       "      <td>0</td>\n",
       "    </tr>\n",
       "    <tr>\n",
       "      <th>11</th>\n",
       "      <td>OTHER_EXPENDITURE</td>\n",
       "      <td>0</td>\n",
       "    </tr>\n",
       "    <tr>\n",
       "      <th>12</th>\n",
       "      <td>CAPITAL_OUTLAY_EXPENDITURE</td>\n",
       "      <td>0</td>\n",
       "    </tr>\n",
       "    <tr>\n",
       "      <th>13</th>\n",
       "      <td>GRADES_PK_G</td>\n",
       "      <td>0</td>\n",
       "    </tr>\n",
       "    <tr>\n",
       "      <th>14</th>\n",
       "      <td>GRADES_KG_G</td>\n",
       "      <td>0</td>\n",
       "    </tr>\n",
       "    <tr>\n",
       "      <th>15</th>\n",
       "      <td>GRADES_4_G</td>\n",
       "      <td>0</td>\n",
       "    </tr>\n",
       "    <tr>\n",
       "      <th>16</th>\n",
       "      <td>GRADES_8_G</td>\n",
       "      <td>0</td>\n",
       "    </tr>\n",
       "    <tr>\n",
       "      <th>17</th>\n",
       "      <td>GRADES_12_G</td>\n",
       "      <td>0</td>\n",
       "    </tr>\n",
       "    <tr>\n",
       "      <th>18</th>\n",
       "      <td>GRADES_1_8_G</td>\n",
       "      <td>0</td>\n",
       "    </tr>\n",
       "    <tr>\n",
       "      <th>19</th>\n",
       "      <td>GRADES_9_12_G</td>\n",
       "      <td>0</td>\n",
       "    </tr>\n",
       "    <tr>\n",
       "      <th>20</th>\n",
       "      <td>GRADES_ALL_G</td>\n",
       "      <td>0</td>\n",
       "    </tr>\n",
       "    <tr>\n",
       "      <th>21</th>\n",
       "      <td>AVG_MATH_4_SCORE</td>\n",
       "      <td>0</td>\n",
       "    </tr>\n",
       "    <tr>\n",
       "      <th>22</th>\n",
       "      <td>AVG_MATH_8_SCORE</td>\n",
       "      <td>0</td>\n",
       "    </tr>\n",
       "    <tr>\n",
       "      <th>23</th>\n",
       "      <td>AVG_READING_4_SCORE</td>\n",
       "      <td>0</td>\n",
       "    </tr>\n",
       "    <tr>\n",
       "      <th>24</th>\n",
       "      <td>AVG_READING_8_SCORE</td>\n",
       "      <td>0</td>\n",
       "    </tr>\n",
       "    <tr>\n",
       "      <th>25</th>\n",
       "      <td>new_pk</td>\n",
       "      <td>0</td>\n",
       "    </tr>\n",
       "  </tbody>\n",
       "</table>\n",
       "</div>"
      ],
      "text/plain": [
       "                               0  1\n",
       "0                    PRIMARY_KEY  0\n",
       "1                          STATE  0\n",
       "2                           YEAR  0\n",
       "3                         ENROLL  0\n",
       "4                  TOTAL_REVENUE  0\n",
       "5                FEDERAL_REVENUE  0\n",
       "6                  STATE_REVENUE  0\n",
       "7                  LOCAL_REVENUE  0\n",
       "8              TOTAL_EXPENDITURE  0\n",
       "9        INSTRUCTION_EXPENDITURE  0\n",
       "10  SUPPORT_SERVICES_EXPENDITURE  0\n",
       "11             OTHER_EXPENDITURE  0\n",
       "12    CAPITAL_OUTLAY_EXPENDITURE  0\n",
       "13                   GRADES_PK_G  0\n",
       "14                   GRADES_KG_G  0\n",
       "15                    GRADES_4_G  0\n",
       "16                    GRADES_8_G  0\n",
       "17                   GRADES_12_G  0\n",
       "18                  GRADES_1_8_G  0\n",
       "19                 GRADES_9_12_G  0\n",
       "20                  GRADES_ALL_G  0\n",
       "21              AVG_MATH_4_SCORE  0\n",
       "22              AVG_MATH_8_SCORE  0\n",
       "23           AVG_READING_4_SCORE  0\n",
       "24           AVG_READING_8_SCORE  0\n",
       "25                        new_pk  0"
      ]
     },
     "execution_count": 5,
     "metadata": {},
     "output_type": "execute_result"
    }
   ],
   "source": [
    "#affirm that there are no more NaNs\n",
    "n = len(used_df)\n",
    "cols = used_df.columns\n",
    "num_null = [len(used_df[used_df[col].isnull()]) / n for col in used_df]\n",
    "pd.DataFrame([cols, num_null]).transpose()"
   ]
  },
  {
   "cell_type": "code",
   "execution_count": 6,
   "metadata": {
    "code_folding": [
     0,
     9
    ]
   },
   "outputs": [
    {
     "data": {
      "image/png": "[encoded data removed]",
      "text/plain": [
       "<Figure size 720x216 with 2 Axes>"
      ]
     },
     "metadata": {},
     "output_type": "display_data"
    },
    {
     "data": {
      "image/png": "[encoded data removed]",
      "text/plain": [
       "<Figure size 720x216 with 2 Axes>"
      ]
     },
     "metadata": {},
     "output_type": "display_data"
    }
   ],
   "source": [
    "#find outliers visually \n",
    "#(whiskers set to 1.5*sd away from quartile range)\n",
    "#population and $ variables all have lots of outliers on the high side\n",
    "#test scores have a few outliers on the low side\n",
    "\n",
    "sns.set()\n",
    "\n",
    "col_list = [\"TOTAL_REVENUE\", \"TOTAL_EXPENDITURE\"]\n",
    "\n",
    "for col in col_list: \n",
    "    plt.figure(figsize=(10, 3))\n",
    "    plt.subplot(1,2,1)\n",
    "    sns.boxplot(data=used_df[col], orient=\"h\")\n",
    "    plt.title(col)\n",
    "    plt.subplot(1,2,2)\n",
    "    sns.distplot(used_df[col], kde=False)\n",
    "    plt.show()"
   ]
  },
  {
   "cell_type": "code",
   "execution_count": 7,
   "metadata": {
    "code_folding": [
     0
    ]
   },
   "outputs": [
    {
     "name": "stdout",
     "output_type": "stream",
     "text": [
      "For column TOTAL_REVENUE...\n",
      "Number of outliers (up-side) is: 322 at threshold 1\n",
      "Number of outliers (down-side) is: 0 at threshold 1\n",
      "Number of outliers (up-side) is: 49 at threshold 2\n",
      "Number of outliers (down-side) is: 0 at threshold 2\n",
      "Number of outliers (up-side) is: 34 at threshold 3\n",
      "Number of outliers (down-side) is: 0 at threshold 3\n",
      "Number of outliers (up-side) is: 18 at threshold 4\n",
      "Number of outliers (down-side) is: 0 at threshold 4\n",
      "For column TOTAL_EXPENDITURE...\n",
      "Number of outliers (up-side) is: 319 at threshold 1\n",
      "Number of outliers (down-side) is: 0 at threshold 1\n",
      "Number of outliers (up-side) is: 50 at threshold 2\n",
      "Number of outliers (down-side) is: 0 at threshold 2\n",
      "Number of outliers (up-side) is: 36 at threshold 3\n",
      "Number of outliers (down-side) is: 0 at threshold 3\n",
      "Number of outliers (up-side) is: 20 at threshold 4\n",
      "Number of outliers (down-side) is: 0 at threshold 4\n"
     ]
    }
   ],
   "source": [
    "#find outliers statistically (z-scores)\n",
    "\n",
    "def z_count(df, col, min_z, max_z):\n",
    "    \"\"\"\n",
    "    prints the number of observatins for each of the z scores \n",
    "    between the min and max (inclusive)\n",
    "    \"\"\"\n",
    "    \n",
    "    print(\"For column {}...\".format(str(col)))\n",
    "    z_scores = zscore(df[col])\n",
    "    for threshold in range(min_z,max_z):\n",
    "        num_outliers_up = len(np.where(z_scores > threshold)[0])\n",
    "        num_outliers_down = len(np.where(z_scores < threshold*-1)[0])\n",
    "        print(\"Number of outliers (up-side) is: {} at threshold {}\".format(num_outliers_up, threshold))\n",
    "        print(\"Number of outliers (down-side) is: {} at threshold {}\".format(num_outliers_down, threshold))\n",
    "        \n",
    "z_count(used_df, \"TOTAL_REVENUE\", 1, 5)\n",
    "z_count(used_df, \"TOTAL_EXPENDITURE\", 1, 5)"
   ]
  },
  {
   "cell_type": "code",
   "execution_count": 8,
   "metadata": {
    "code_folding": [
     0
    ]
   },
   "outputs": [
    {
     "data": {
      "image/png": "[encoded data removed]",
      "text/plain": [
       "<Figure size 720x216 with 2 Axes>"
      ]
     },
     "metadata": {},
     "output_type": "display_data"
    }
   ],
   "source": [
    "# #2... transform via winsorization (whis = 1.5)\n",
    "winsorized_tot_rev = winsorize(used_df[\"TOTAL_REVENUE\"], (0, 0.05))\n",
    "winsorized_tot_exp = winsorize(used_df[\"TOTAL_EXPENDITURE\"], (0, 0.05))\n",
    "\n",
    "plt.figure(figsize=(10, 3))\n",
    "plt.subplot(1,2,1)\n",
    "plt.boxplot(winsorized_tot_rev, whis = 5)\n",
    "plt.title(\"Box plot of winsorized\\nTotal Revenue (whis= = 5)\")\n",
    "plt.subplot(1,2,2)\n",
    "plt.boxplot(winsorized_tot_exp)\n",
    "plt.title(\"Box plot of winsorized\\nTotal Expenditures (whis= 5)\")\n",
    "plt.show()"
   ]
  },
  {
   "cell_type": "code",
   "execution_count": 9,
   "metadata": {
    "code_folding": [
     0
    ]
   },
   "outputs": [
    {
     "name": "stdout",
     "output_type": "stream",
     "text": [
      "For column log_TOTAL_REVENUE...\n",
      "Number of outliers (up-side) is: 352 at threshold 1\n",
      "Number of outliers (down-side) is: 293 at threshold 1\n",
      "Number of outliers (up-side) is: 15 at threshold 2\n",
      "Number of outliers (down-side) is: 11 at threshold 2\n",
      "Number of outliers (up-side) is: 0 at threshold 3\n",
      "Number of outliers (down-side) is: 0 at threshold 3\n",
      "Number of outliers (up-side) is: 0 at threshold 4\n",
      "Number of outliers (down-side) is: 0 at threshold 4\n",
      "For column log_TOTAL_EXPENDITURE...\n",
      "Number of outliers (up-side) is: 356 at threshold 1\n",
      "Number of outliers (down-side) is: 302 at threshold 1\n",
      "Number of outliers (up-side) is: 16 at threshold 2\n",
      "Number of outliers (down-side) is: 12 at threshold 2\n",
      "Number of outliers (up-side) is: 0 at threshold 3\n",
      "Number of outliers (down-side) is: 0 at threshold 3\n",
      "Number of outliers (up-side) is: 0 at threshold 4\n",
      "Number of outliers (down-side) is: 0 at threshold 4\n"
     ]
    },
    {
     "data": {
      "image/png": "[encoded data removed]",
      "text/plain": [
       "<Figure size 720x216 with 2 Axes>"
      ]
     },
     "metadata": {},
     "output_type": "display_data"
    },
    {
     "data": {
      "image/png": "[encoded data removed]",
      "text/plain": [
       "<Figure size 720x216 with 2 Axes>"
      ]
     },
     "metadata": {},
     "output_type": "display_data"
    }
   ],
   "source": [
    "# #2...transform via transformation (log)\n",
    "used_df[\"log_TOTAL_REVENUE\"] = np.log(used_df[\"TOTAL_REVENUE\"])\n",
    "used_df[\"log_TOTAL_EXPENDITURE\"] = np.log(used_df[\"TOTAL_EXPENDITURE\"])\n",
    "\n",
    "z_count(used_df, \"log_TOTAL_REVENUE\", 1, 5)\n",
    "z_count(used_df, \"log_TOTAL_EXPENDITURE\", 1, 5)\n",
    "\n",
    "col_list = [\"log_TOTAL_REVENUE\", \"log_TOTAL_EXPENDITURE\"]\n",
    "\n",
    "for col in col_list: \n",
    "    plt.figure(figsize=(10, 3))\n",
    "    plt.subplot(1,2,1)\n",
    "    sns.boxplot(data=used_df[col], orient=\"h\")\n",
    "    plt.title(col)\n",
    "    plt.subplot(1,2,2)\n",
    "    sns.distplot(used_df[col], kde=False)\n",
    "    plt.show()"
   ]
  },
  {
   "cell_type": "code",
   "execution_count": 10,
   "metadata": {
    "code_folding": [
     0
    ]
   },
   "outputs": [
    {
     "data": {
      "image/png": "[encoded data removed]",
      "text/plain": [
       "<Figure size 720x216 with 2 Axes>"
      ]
     },
     "metadata": {},
     "output_type": "display_data"
    },
    {
     "name": "stdout",
     "output_type": "stream",
     "text": [
      "For column defecit_v1...\n",
      "Number of outliers (up-side) is: 56 at threshold 1\n",
      "Number of outliers (down-side) is: 97 at threshold 1\n",
      "Number of outliers (up-side) is: 17 at threshold 2\n",
      "Number of outliers (down-side) is: 53 at threshold 2\n",
      "Number of outliers (up-side) is: 7 at threshold 3\n",
      "Number of outliers (down-side) is: 27 at threshold 3\n",
      "Number of outliers (up-side) is: 3 at threshold 4\n",
      "Number of outliers (down-side) is: 15 at threshold 4\n"
     ]
    }
   ],
   "source": [
    "# #3...detect budget deficit outliers\n",
    "used_df[\"defecit_v1\"] = used_df[\"TOTAL_REVENUE\"] - used_df[\"TOTAL_EXPENDITURE\"]\n",
    "\n",
    "#1..find outliers visually \n",
    "# (whiskers set to 1.5*sd away from quartile range)\n",
    "# population and $ variables all have lots of outliers on the high side\n",
    "# test scores have a few outliers on the low side\n",
    "\n",
    "plt.figure(figsize=(10, 3))\n",
    "plt.subplot(1,2,1)\n",
    "sns.boxplot(data=used_df[\"defecit_v1\"], orient=\"h\")\n",
    "plt.title(\"defecit_v1\")\n",
    "plt.subplot(1,2,2)\n",
    "sns.distplot(used_df[\"defecit_v1\"], kde=False)\n",
    "plt.show()\n",
    "    \n",
    "z_count(used_df, \"defecit_v1\", 1, 5)"
   ]
  },
  {
   "cell_type": "code",
   "execution_count": 11,
   "metadata": {
    "code_folding": [
     0
    ]
   },
   "outputs": [
    {
     "name": "stdout",
     "output_type": "stream",
     "text": [
      "-5487742.0\n",
      "For column log_defecit_v1...\n",
      "Number of outliers (up-side) is: 1 at threshold 1\n",
      "Number of outliers (down-side) is: 21 at threshold 1\n",
      "Number of outliers (up-side) is: 0 at threshold 2\n",
      "Number of outliers (down-side) is: 9 at threshold 2\n",
      "Number of outliers (up-side) is: 0 at threshold 3\n",
      "Number of outliers (down-side) is: 3 at threshold 3\n",
      "Number of outliers (up-side) is: 0 at threshold 4\n",
      "Number of outliers (down-side) is: 2 at threshold 4\n"
     ]
    },
    {
     "data": {
      "image/png": "[encoded data removed]",
      "text/plain": [
       "<Figure size 720x216 with 2 Axes>"
      ]
     },
     "metadata": {},
     "output_type": "display_data"
    }
   ],
   "source": [
    "# #3...eliminate budget outliers via transformation (log)\n",
    "max_def = used_df[\"defecit_v1\"].min()\n",
    "print(max_def)\n",
    "used_df[\"log_defecit_v1\"] = np.log(used_df[\"defecit_v1\"] + (-1* max_def) + 1)\n",
    "\n",
    "z_count(used_df, \"log_defecit_v1\", 1, 5)\n",
    "\n",
    "plt.figure(figsize=(10, 3))\n",
    "plt.subplot(1,2,1)\n",
    "sns.boxplot(data=used_df[\"log_defecit_v1\"], orient=\"h\")\n",
    "plt.title(\"log_defecit_v1\")\n",
    "plt.subplot(1,2,2)\n",
    "sns.distplot(used_df[\"log_defecit_v1\"], kde=False)\n",
    "plt.show()\n"
   ]
  },
  {
   "cell_type": "code",
   "execution_count": 12,
   "metadata": {},
   "outputs": [
    {
     "data": {
      "text/html": [
       "<div>\n",
       "<style scoped>\n",
       "    .dataframe tbody tr th:only-of-type {\n",
       "        vertical-align: middle;\n",
       "    }\n",
       "\n",
       "    .dataframe tbody tr th {\n",
       "        vertical-align: top;\n",
       "    }\n",
       "\n",
       "    .dataframe thead th {\n",
       "        text-align: right;\n",
       "    }\n",
       "</style>\n",
       "<table border=\"1\" class=\"dataframe\">\n",
       "  <thead>\n",
       "    <tr style=\"text-align: right;\">\n",
       "      <th></th>\n",
       "      <th>PRIMARY_KEY</th>\n",
       "      <th>STATE</th>\n",
       "      <th>YEAR</th>\n",
       "      <th>ENROLL</th>\n",
       "      <th>TOTAL_REVENUE</th>\n",
       "      <th>FEDERAL_REVENUE</th>\n",
       "      <th>STATE_REVENUE</th>\n",
       "      <th>LOCAL_REVENUE</th>\n",
       "      <th>TOTAL_EXPENDITURE</th>\n",
       "      <th>INSTRUCTION_EXPENDITURE</th>\n",
       "      <th>...</th>\n",
       "      <th>GRADES_ALL_G</th>\n",
       "      <th>AVG_MATH_4_SCORE</th>\n",
       "      <th>AVG_MATH_8_SCORE</th>\n",
       "      <th>AVG_READING_4_SCORE</th>\n",
       "      <th>AVG_READING_8_SCORE</th>\n",
       "      <th>new_pk</th>\n",
       "      <th>log_TOTAL_REVENUE</th>\n",
       "      <th>log_TOTAL_EXPENDITURE</th>\n",
       "      <th>defecit_v1</th>\n",
       "      <th>log_defecit_v1</th>\n",
       "    </tr>\n",
       "  </thead>\n",
       "  <tbody>\n",
       "    <tr>\n",
       "      <th>932</th>\n",
       "      <td>2009_TEXAS</td>\n",
       "      <td>TEXAS</td>\n",
       "      <td>2009</td>\n",
       "      <td>4647205.0</td>\n",
       "      <td>48087531.0</td>\n",
       "      <td>4913841.0</td>\n",
       "      <td>19708771.0</td>\n",
       "      <td>23464919.0</td>\n",
       "      <td>53575273.0</td>\n",
       "      <td>23895853.0</td>\n",
       "      <td>...</td>\n",
       "      <td>4480777.0</td>\n",
       "      <td>240.464624</td>\n",
       "      <td>286.685077</td>\n",
       "      <td>218.858272</td>\n",
       "      <td>270.700537</td>\n",
       "      <td>TEXAS2009</td>\n",
       "      <td>17.688533</td>\n",
       "      <td>17.796598</td>\n",
       "      <td>-5487742.0</td>\n",
       "      <td>0.0</td>\n",
       "    </tr>\n",
       "  </tbody>\n",
       "</table>\n",
       "<p>1 rows × 30 columns</p>\n",
       "</div>"
      ],
      "text/plain": [
       "    PRIMARY_KEY  STATE  YEAR     ENROLL  TOTAL_REVENUE  FEDERAL_REVENUE  \\\n",
       "932  2009_TEXAS  TEXAS  2009  4647205.0     48087531.0        4913841.0   \n",
       "\n",
       "     STATE_REVENUE  LOCAL_REVENUE  TOTAL_EXPENDITURE  INSTRUCTION_EXPENDITURE  \\\n",
       "932     19708771.0     23464919.0         53575273.0               23895853.0   \n",
       "\n",
       "     ...  GRADES_ALL_G  AVG_MATH_4_SCORE  AVG_MATH_8_SCORE  \\\n",
       "932  ...     4480777.0        240.464624        286.685077   \n",
       "\n",
       "     AVG_READING_4_SCORE  AVG_READING_8_SCORE     new_pk  log_TOTAL_REVENUE  \\\n",
       "932           218.858272           270.700537  TEXAS2009          17.688533   \n",
       "\n",
       "     log_TOTAL_EXPENDITURE  defecit_v1  log_defecit_v1  \n",
       "932              17.796598  -5487742.0             0.0  \n",
       "\n",
       "[1 rows x 30 columns]"
      ]
     },
     "execution_count": 12,
     "metadata": {},
     "output_type": "execute_result"
    }
   ],
   "source": [
    "used_df[used_df[\"log_defecit_v1\"]<10]"
   ]
  },
  {
   "cell_type": "code",
   "execution_count": 13,
   "metadata": {
    "code_folding": [
     0
    ]
   },
   "outputs": [
    {
     "data": {
      "image/png": "[encoded data removed]",
      "text/plain": [
       "<Figure size 720x216 with 2 Axes>"
      ]
     },
     "metadata": {},
     "output_type": "display_data"
    },
    {
     "name": "stdout",
     "output_type": "stream",
     "text": [
      "For column defecit_v2...\n",
      "Number of outliers (up-side) is: 129 at threshold 1\n",
      "Number of outliers (down-side) is: 194 at threshold 1\n",
      "Number of outliers (up-side) is: 29 at threshold 2\n",
      "Number of outliers (down-side) is: 39 at threshold 2\n",
      "Number of outliers (up-side) is: 13 at threshold 3\n",
      "Number of outliers (down-side) is: 2 at threshold 3\n",
      "Number of outliers (up-side) is: 8 at threshold 4\n",
      "Number of outliers (down-side) is: 1 at threshold 4\n"
     ]
    }
   ],
   "source": [
    "# #4...detect budget deficit outliers using outlier-purged inputs for defecit calc\n",
    "used_df[\"defecit_v2\"] = used_df[\"log_TOTAL_REVENUE\"] - used_df[\"log_TOTAL_EXPENDITURE\"]\n",
    "\n",
    "#1..find outliers visually \n",
    "# (whiskers set to 1.5*sd away from quartile range)\n",
    "# population and $ variables all have lots of outliers on the high side\n",
    "# test scores have a few outliers on the low side\n",
    "\n",
    "plt.figure(figsize=(10, 3))\n",
    "plt.subplot(1,2,1)\n",
    "sns.boxplot(data=used_df[\"defecit_v2\"], orient=\"h\")\n",
    "plt.title(\"defecit_v2\")\n",
    "plt.subplot(1,2,2)\n",
    "sns.distplot(used_df[\"defecit_v2\"], kde=False)\n",
    "plt.show()\n",
    "    \n",
    "z_count(used_df, \"defecit_v2\", 1, 5)"
   ]
  },
  {
   "cell_type": "code",
   "execution_count": 14,
   "metadata": {
    "code_folding": [
     0
    ]
   },
   "outputs": [
    {
     "name": "stdout",
     "output_type": "stream",
     "text": [
      "-0.17036887720152016\n",
      "For column log_defecit_v2...\n",
      "Number of outliers (up-side) is: 132 at threshold 1\n",
      "Number of outliers (down-side) is: 199 at threshold 1\n",
      "Number of outliers (up-side) is: 29 at threshold 2\n",
      "Number of outliers (down-side) is: 47 at threshold 2\n",
      "Number of outliers (up-side) is: 12 at threshold 3\n",
      "Number of outliers (down-side) is: 4 at threshold 3\n",
      "Number of outliers (up-side) is: 8 at threshold 4\n",
      "Number of outliers (down-side) is: 1 at threshold 4\n"
     ]
    },
    {
     "data": {
      "image/png": "[encoded data removed]",
      "text/plain": [
       "<Figure size 720x216 with 2 Axes>"
      ]
     },
     "metadata": {},
     "output_type": "display_data"
    }
   ],
   "source": [
    "# #4...eliminate budget outliers via transformation (log) - doesn't work! \n",
    "# doesn't change the distribution shape at all\n",
    "max_def = used_df[\"defecit_v2\"].min()\n",
    "print(max_def)\n",
    "used_df[\"log_defecit_v2\"] = np.log(used_df[\"defecit_v2\"] + (-1* max_def) + 1)\n",
    "\n",
    "z_count(used_df, \"log_defecit_v2\", 1, 5)\n",
    "\n",
    "plt.figure(figsize=(10, 3))\n",
    "plt.subplot(1,2,1)\n",
    "sns.boxplot(data=used_df[\"log_defecit_v2\"], orient=\"h\")\n",
    "plt.title(\"log_defecit_v2\")\n",
    "plt.subplot(1,2,2)\n",
    "sns.distplot(used_df[\"log_defecit_v2\"], kde=False)\n",
    "plt.show()\n"
   ]
  },
  {
   "cell_type": "code",
   "execution_count": 15,
   "metadata": {
    "code_folding": [
     0
    ]
   },
   "outputs": [
    {
     "data": {
      "image/png": "[encoded data removed]",
      "text/plain": [
       "<Figure size 432x288 with 1 Axes>"
      ]
     },
     "metadata": {},
     "output_type": "display_data"
    }
   ],
   "source": [
    "# #4...eliminate budget outliers via transformation (winsorization)\n",
    "\n",
    "winsorized_defv2 = winsorize(used_df[\"defecit_v2\"], (0.03, 0.03))\n",
    "\n",
    "plt.boxplot(winsorized_defv2)\n",
    "plt.title(\"Box plot of winsorized\\ndefecit_v2 (whis=1.5)\")\n",
    "plt.show()"
   ]
  },
  {
   "cell_type": "code",
   "execution_count": 16,
   "metadata": {
    "code_folding": [
     0
    ]
   },
   "outputs": [
    {
     "data": {
      "text/html": [
       "<div>\n",
       "<style scoped>\n",
       "    .dataframe tbody tr th:only-of-type {\n",
       "        vertical-align: middle;\n",
       "    }\n",
       "\n",
       "    .dataframe tbody tr th {\n",
       "        vertical-align: top;\n",
       "    }\n",
       "\n",
       "    .dataframe thead th {\n",
       "        text-align: right;\n",
       "    }\n",
       "</style>\n",
       "<table border=\"1\" class=\"dataframe\">\n",
       "  <thead>\n",
       "    <tr style=\"text-align: right;\">\n",
       "      <th></th>\n",
       "      <th>log_post</th>\n",
       "      <th>log_prior</th>\n",
       "    </tr>\n",
       "  </thead>\n",
       "  <tbody>\n",
       "    <tr>\n",
       "      <th>count</th>\n",
       "      <td>1492.000000</td>\n",
       "      <td>1492.000000</td>\n",
       "    </tr>\n",
       "    <tr>\n",
       "      <th>mean</th>\n",
       "      <td>15.495611</td>\n",
       "      <td>-0.003810</td>\n",
       "    </tr>\n",
       "    <tr>\n",
       "      <th>std</th>\n",
       "      <td>0.421986</td>\n",
       "      <td>0.034231</td>\n",
       "    </tr>\n",
       "    <tr>\n",
       "      <th>min</th>\n",
       "      <td>0.000000</td>\n",
       "      <td>-0.083800</td>\n",
       "    </tr>\n",
       "    <tr>\n",
       "      <th>25%</th>\n",
       "      <td>15.492781</td>\n",
       "      <td>-0.024798</td>\n",
       "    </tr>\n",
       "    <tr>\n",
       "      <th>50%</th>\n",
       "      <td>15.517930</td>\n",
       "      <td>-0.000261</td>\n",
       "    </tr>\n",
       "    <tr>\n",
       "      <th>75%</th>\n",
       "      <td>15.551647</td>\n",
       "      <td>0.017574</td>\n",
       "    </tr>\n",
       "    <tr>\n",
       "      <th>max</th>\n",
       "      <td>16.054610</td>\n",
       "      <td>0.066709</td>\n",
       "    </tr>\n",
       "  </tbody>\n",
       "</table>\n",
       "</div>"
      ],
      "text/plain": [
       "          log_post    log_prior\n",
       "count  1492.000000  1492.000000\n",
       "mean     15.495611    -0.003810\n",
       "std       0.421986     0.034231\n",
       "min       0.000000    -0.083800\n",
       "25%      15.492781    -0.024798\n",
       "50%      15.517930    -0.000261\n",
       "75%      15.551647     0.017574\n",
       "max      16.054610     0.066709"
      ]
     },
     "execution_count": 16,
     "metadata": {},
     "output_type": "execute_result"
    }
   ],
   "source": [
    "# #5...Compare some basic descriptive statistics of the budget variables you end up \n",
    "# with in the third and the fourth questions. Do you see any differences?\n",
    "\n",
    "comp_df = pd.DataFrame([used_df.log_defecit_v1, winsorized_defv2]).transpose()\n",
    "comp_df.columns = [\"log_post\", \"log_prior\"]\n",
    "comp_df.describe()"
   ]
  },
  {
   "cell_type": "markdown",
   "metadata": {},
   "source": [
    "they differ all over the place.  hardly comparable really.  "
   ]
  },
  {
   "cell_type": "markdown",
   "metadata": {},
   "source": [
    "6 - which approach is better.  \n",
    "I'm not sure why I would pick one over the other.  Will discuss with my mentor."
   ]
  }
 ],
 "metadata": {
  "kernelspec": {
   "display_name": "Python 3",
   "language": "python",
   "name": "python3"
  },
  "language_info": {
   "codemirror_mode": {
    "name": "ipython",
    "version": 3
   },
   "file_extension": ".py",
   "mimetype": "text/x-python",
   "name": "python",
   "nbconvert_exporter": "python",
   "pygments_lexer": "ipython3",
   "version": "3.7.3"
  }
 },
 "nbformat": 4,
 "nbformat_minor": 2
}
