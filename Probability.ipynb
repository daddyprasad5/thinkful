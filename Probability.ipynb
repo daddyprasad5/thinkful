{
 "cells": [
  {
   "cell_type": "markdown",
   "metadata": {},
   "source": [
    "# Probability Exercises\n",
    "This workbook contains some exercises from the probability module of my thinkful data science course"
   ]
  },
  {
   "cell_type": "markdown",
   "metadata": {},
   "source": [
    "## Drill Set 1\n",
    "### Problem 1: \n",
    "Q: Calculate the probability of flipping a balanced coin four times and getting each pattern: HTTH, HHHH and TTHH."
   ]
  },
  {
   "cell_type": "code",
   "execution_count": 2,
   "metadata": {},
   "outputs": [
    {
     "name": "stdout",
     "output_type": "stream",
     "text": [
      "0.0625\n",
      "0.0625\n",
      "0.0625\n"
     ]
    }
   ],
   "source": [
    "prob_h, prob_t = 0.5, 0.5\n",
    "#all the probabilities are the same of coures, but demonstrating...\n",
    "def coin_flip_chances(flips):  #accepts string of H's and T's in any sequence\n",
    "    prob = 1\n",
    "    for flip in flips:\n",
    "        if flip == \"H\": prob = prob * .5\n",
    "        else: prob = prob * .5\n",
    "    return prob\n",
    "\n",
    "print(coin_flip_chances('HTTH'))\n",
    "print(coin_flip_chances('HHHH'))\n",
    "print(coin_flip_chances('TTHH'))\n",
    "\n"
   ]
  },
  {
   "cell_type": "markdown",
   "metadata": {},
   "source": [
    "### Problem 2\n",
    "Q: If a list of people has 24 women and 21 men, then the probability of choosing a man from the list is 21/45. What is the probability of not choosing a man?"
   ]
  },
  {
   "cell_type": "code",
   "execution_count": 5,
   "metadata": {},
   "outputs": [
    {
     "name": "stdout",
     "output_type": "stream",
     "text": [
      "0.5333333333333333\n"
     ]
    }
   ],
   "source": [
    "print(24/45)"
   ]
  },
  {
   "cell_type": "markdown",
   "metadata": {},
   "source": [
    "### Problem 3\n",
    "The probability that Bernice will travel by plane sometime in the next year is 10%. The probability of a plane crash at any time is .005%. What is the probability that Bernice will be in a plane crash sometime in the next year?"
   ]
  },
  {
   "cell_type": "code",
   "execution_count": 7,
   "metadata": {},
   "outputs": [
    {
     "name": "stdout",
     "output_type": "stream",
     "text": [
      "0.0005\n"
     ]
    }
   ],
   "source": [
    "p_plane_travel = .1\n",
    "p_plane_crash = .005\n",
    "print(p_plane_travel * p_plane_crash)\n"
   ]
  },
  {
   "cell_type": "markdown",
   "metadata": {},
   "source": [
    "### Problem 4\n",
    "Q: A data scientist wants to study the behavior of users on the company website. Each time a user clicks on a link on the website, there is a 5% chance that the user will be asked to complete a short survey about their behavior on the website. The data scientist uses the survey data to conclude that, on average, users spend 15 minutes surfing the company website before moving on to other things. What is wrong with this conclusion?\n",
    "\n",
    "A: Selecton bias. Those who click more links are likley to have surfed longer. "
   ]
  },
  {
   "cell_type": "markdown",
   "metadata": {},
   "source": [
    "## Drill Set 2\n",
    "### Problem 1: \n",
    "A diagnostic test has a 98% probability of giving a positive result when applied to a person suffering from Thripshaw's Disease, and 10% probability of giving a (false) positive when applied to a non-sufferer. It is estimated that 0.5 % of the population are sufferers. Suppose that the test is now administered to a person whose disease status is unknown. Calculate the probability that the test will:\n",
    "\n",
    "1. Be positive\n",
    "2. Correctly diagnose a sufferer of Thripshaw's\n",
    "3. Correctly identify a non-sufferer of Thripshaw's\n",
    "4. Misclassify the person\n"
   ]
  },
  {
   "cell_type": "code",
   "execution_count": 25,
   "metadata": {},
   "outputs": [
    {
     "name": "stdout",
     "output_type": "stream",
     "text": [
      "my intuitive prob of a positive test: 0.1044\n",
      "\n",
      "bayesian prob of a positive test: 0.1044\n",
      "\n",
      "my intuitive prob that a test will correctly diagnose a sufferer: 0.98\n",
      "\n",
      "bayesian prob that a test will correctly diagnose a sufferer: 0.98\n",
      "\n",
      "my intuitive prob of a true negative: 0.9\n",
      "\n",
      "bayesian prob of a true negative: 0.8999999999999999\n",
      "\n",
      "my intuitive prob of a misclassification: 0.09960000000000001\n",
      "\n",
      "bayesian prob of a misclassification: 4.079500000000004\n",
      "which is wrong of course :)\n"
     ]
    }
   ],
   "source": [
    "prob_being_positive = .005 #P(Infected)\n",
    "prob_being_negative = .995 #P(~Infected)\n",
    "prob_false_positive = .10  #P(Positive|~Infected)\n",
    "prob_true_positive = .98   #P(Positive|Infected)\n",
    "\n",
    "##1: probabiility a given test will be positive: \n",
    "\n",
    "#intuition...two scenarios: \n",
    "#1 you are positive and test is positive & you are negative and test is positive (false positive)\n",
    "int_prob_positive_test = ( (prob_true_positive * prob_being_positive) \n",
    "                          + (prob_false_positive * prob_being_negative)\n",
    "                         )\n",
    "print('my intuitive prob of a positive test: ' + str(int_prob_positive_test) + '\\n')\n",
    "\n",
    "#Bayes formula for prob of a positive test is\n",
    "#P(Infected) * P(Positive|Infected) + P(~Infected) * P(Positive|~Infected)\n",
    "\n",
    "bayes_prob_positive_test = ( (prob_being_positive * prob_true_positive) \n",
    "                            + (prob_being_negative * prob_false_positive)\n",
    "                           )\n",
    "print('bayesian prob of a positive test: ' + str(bayes_prob_positive_test) + '\\n')\n",
    "\n",
    "#2 Calculate the probability that a test will correctly diagnose a sufferer\n",
    "\n",
    "#intuitively...this is the probability of a postive test, given an infected patient\n",
    "#so this is the same as a true positive.  \n",
    "\n",
    "print('my intuitive prob that a test will correctly diagnose a sufferer: ' \n",
    "      + str(prob_true_positive) + '\\n')\n",
    "\n",
    "#Bayes formula is...\n",
    "#P(Postive Test | Infected) = P(Infected | Positive Test) * P(Positive Test) / P(Infected)\n",
    "\n",
    "bayes_prob_true_positive = ( (prob_true_positive * prob_being_positive) \n",
    "                            / (prob_true_positive * prob_being_positive\n",
    "                               + prob_false_positive * prob_being_negative\n",
    "                              )\n",
    "                           ) * bayes_prob_positive_test / prob_being_positive\n",
    "\n",
    "print('bayesian prob that a test will correctly diagnose a sufferer: ' \n",
    "      + str(bayes_prob_true_positive) + '\\n')\n",
    "\n",
    "#3 Calculate the probability that a test will correctly identify a non-sufferer of Thripshaw's\n",
    "\n",
    "#intuitively this is the probability of a true negative which should be the inverse of a false positve\n",
    "int_prob_true_negative = 1 - prob_false_positive\n",
    "\n",
    "print('my intuitive prob of a true negative: ' + str(int_prob_true_negative)+ '\\n')\n",
    "\n",
    "#Bayes formula is...\n",
    "#P(Negative Test | ~Infected) = P(~Infected | Negative Test) * P(Negative Test) / P(~Infected)\n",
    "\n",
    "bayes_prob_true_negative = ( (prob_being_negative * (1-prob_false_positive)) \n",
    "                            / (prob_being_negative * (1-prob_false_positive)\n",
    "                               + prob_being_positive * (1-prob_true_positive)\n",
    "                              )\n",
    "                           ) * (1 - bayes_prob_positive_test) / prob_being_negative\n",
    "\n",
    "print('bayesian prob of a true negative: ' \n",
    "      + str(bayes_prob_true_negative) + '\\n')\n",
    "\n",
    "#4 Calculate the probability that a test will Misclassify the person\n",
    "\n",
    "#intuitively, this should be... P(false positive) * P(~Infected) \n",
    "#                             + P(false negative) * P(Infected)\n",
    "int_prob_false_test = ( prob_false_positive * prob_being_negative + \n",
    "                       (1 - prob_true_positive) * prob_being_positive\n",
    "                      )\n",
    "\n",
    "print('my intuitive prob of a misclassification: ' + str(int_prob_false_test) + '\\n')\n",
    "\n",
    "#Bayes formula is...\n",
    "#P(Negative Test | Infected) = P(Infected | Negative Test) * P(Negative Test) / P(Infected)\n",
    "# + \n",
    "#P(Postive Test | ~Infected) = P(~Infected | Positive Test) * P(Positive Test) / P(~Infected)\n",
    "\n",
    "bayes_prob_false_negative = ( (1-prob_true_positive) * prob_being_negative\n",
    "                             / prob_being_positive\n",
    "                            )\n",
    "\n",
    "bayes_prob_false_positive = ( prob_false_positive * bayes_prob_positive_test\n",
    "                             / prob_being_negative\n",
    "                            )\n",
    "bayes_prob_misclassification = bayes_prob_false_negative + prob_false_positive * prob_being_negative\n",
    "\n",
    "print('bayesian prob of a misclassification: ' + str(bayes_prob_misclassification) + '\\n' + \n",
    "     'which is wrong of course :)')\n",
    "\n"
   ]
  },
  {
   "cell_type": "code",
   "execution_count": null,
   "metadata": {},
   "outputs": [],
   "source": []
  },
  {
   "cell_type": "code",
   "execution_count": null,
   "metadata": {},
   "outputs": [],
   "source": []
  }
 ],
 "metadata": {
  "kernelspec": {
   "display_name": "Python 3",
   "language": "python",
   "name": "python3"
  },
  "language_info": {
   "codemirror_mode": {
    "name": "ipython",
    "version": 3
   },
   "file_extension": ".py",
   "mimetype": "text/x-python",
   "name": "python",
   "nbconvert_exporter": "python",
   "pygments_lexer": "ipython3",
   "version": "3.7.3"
  }
 },
 "nbformat": 4,
 "nbformat_minor": 2
}
