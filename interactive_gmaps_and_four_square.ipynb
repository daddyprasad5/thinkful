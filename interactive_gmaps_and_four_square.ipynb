{
 "cells": [
  {
   "cell_type": "markdown",
   "metadata": {},
   "source": [
    "# Juypter Widgets, Four-square and Google APIs\n",
    "Raj Prasad\n",
    "July 2019\n",
    "\n",
    "[html version](https://daddyprasad5.github.io/interactive_gmaps_and_four_square.html) \n",
    "\n",
    "[jupyter notebook version](https://github.com/daddyprasad5/thinkful/blob/master/interactive_gmaps_and_four_square.ipynb) \n",
    "\n",
    "This notebook uses Jupyter Widgets to allow the notebook user to pick a city, then collects the foursquare trending venues from the foursquare API, and displays the locations of those venues on a google map.   "
   ]
  },
  {
   "cell_type": "code",
   "execution_count": 17,
   "metadata": {},
   "outputs": [],
   "source": [
    "from __future__ import print_function\n",
    "from ipywidgets import interact, interactive, fixed, interact_manual\n",
    "import ipywidgets as widgets\n",
    "from IPython.core.display import HTML\n",
    "from ipywidgets.embed import embed_minimal_html\n",
    "import requests\n",
    "import json\n",
    "import datetime\n",
    "import gmaps\n",
    "import pandas as pd\n",
    "\n",
    "#set constants\n",
    "GOOGLE_KEY_FILE = \"gookey.txt\"\n",
    "FOUR_SQUARE_KEY_FILE = \"fourkey.json\""
   ]
  },
  {
   "cell_type": "code",
   "execution_count": 24,
   "metadata": {},
   "outputs": [
    {
     "data": {
      "application/vnd.jupyter.widget-view+json": {
       "model_id": "21e1dbb960344d41876fc7edfbc01066",
       "version_major": 2,
       "version_minor": 0
      },
      "text/plain": [
       "interactive(children=(Text(value='New York City', description='loc'), Button(description='Run Interact', style…"
      ]
     },
     "metadata": {},
     "output_type": "display_data"
    }
   ],
   "source": [
    "#for interactive display of map of trending venues around a given location\n",
    "\n",
    "@interact_manual(loc=\"New York City\")\n",
    "def get_trending_venues_map(loc):\n",
    "    \n",
    "    with open(FOUR_SQUARE_KEY_FILE) as json_file:\n",
    "        keys = json.load(json_file)\n",
    "        client_id = keys[\"client_id\"]\n",
    "        client_secret = keys[\"client_secret\"]\n",
    "    \n",
    "    trending_api = f'https://api.foursquare.com/v2/venues/trending?near={loc}&limit=10&radius=2000&client_id={client_id}&client_secret={client_secret}&v=20190724'\n",
    "    req = requests.get(trending_api)\n",
    "    response = req.json()\n",
    "    names = []\n",
    "    locations = []\n",
    "    for v in response[\"response\"][\"venues\"]:\n",
    "        names.append(v[\"name\"])\n",
    "        locations.append((v[\"location\"][\"lat\"], v[\"location\"][\"lng\"]))\n",
    "\n",
    "    with open(GOOGLE_KEY_FILE) as f:\n",
    "        api_key = f.readline()\n",
    "        f.close\n",
    "    gmaps.configure(api_key=api_key)\n",
    "    \n",
    "    list_of_infoboxes = [name for name in names]\n",
    "\n",
    "    marker_layer = gmaps.marker_layer(locations, info_box_content=list_of_infoboxes)\n",
    "    fig = gmaps.figure()\n",
    "    fig.add_layer(marker_layer)\n",
    "    display(fig)\n",
    "    \n",
    "    "
   ]
  },
  {
   "cell_type": "code",
   "execution_count": null,
   "metadata": {},
   "outputs": [],
   "source": []
  }
 ],
 "metadata": {
  "kernelspec": {
   "display_name": "Python 3",
   "language": "python",
   "name": "python3"
  },
  "language_info": {
   "codemirror_mode": {
    "name": "ipython",
    "version": 3
   },
   "file_extension": ".py",
   "mimetype": "text/x-python",
   "name": "python",
   "nbconvert_exporter": "python",
   "pygments_lexer": "ipython3",
   "version": "3.7.3"
  }
 },
 "nbformat": 4,
 "nbformat_minor": 2
}
