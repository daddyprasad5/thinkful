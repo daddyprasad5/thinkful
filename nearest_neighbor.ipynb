{
 "cells": [
  {
   "cell_type": "markdown",
   "metadata": {},
   "source": [
    "# Nearest Neighbor Challenge\n",
    "This is an assignment for my thinkful data science course. \n",
    "Raj Prasad\n",
    "May 2019\n",
    "\n",
    "\n",
    "[html version](https://daddyprasad5.github.io/nearest_neighbor.html) - with all the code hidden away for a quick read\n",
    "\n",
    "[jupyter notebook version](https://github.com/daddyprasad5/thinkful/blob/master/nearest_neighbor.ipynb) - with all the code exposed in an interactive notebook\n"
   ]
  },
  {
   "cell_type": "code",
   "execution_count": 88,
   "metadata": {},
   "outputs": [
    {
     "name": "stdout",
     "output_type": "stream",
     "text": [
      "distance is 107.15409464878138\n",
      "x,y is 10, 102\n",
      "1\n",
      "[1]\n",
      "distance is 98.04590761474952\n",
      "x,y is 36, 186\n",
      "0\n",
      "[0]\n",
      "distance is 19.235384061671343\n",
      "x,y is 34, 134\n",
      "0\n",
      "[0]\n",
      "distance is 84.20213774008353\n",
      "x,y is 18, 184\n",
      "1\n",
      "[1]\n"
     ]
    }
   ],
   "source": [
    "import pandas as pd\n",
    "import math\n",
    "\n",
    "class nearest_neighbor:\n",
    "    \n",
    "    def __init__(self, X, Y, T):\n",
    "        self.XY = list(zip(X,Y))        \n",
    "        self.DICT = {(x,y): t for (x,y,t) in zip(X,Y,T)}\n",
    "\n",
    "    def distance(self, a, b, x, y):\n",
    "        return math.sqrt( (a - x)**2 + (b - y)**2)\n",
    "    \n",
    "    def predict(self, a, b):\n",
    "        #for (x, y) in self.XY: print(x) \n",
    "        min_distance = math.inf\n",
    "        nearest = None\n",
    "        nearestx = None\n",
    "        nearesty = None\n",
    "        for (x, y) in self.XY:\n",
    "            d = self.distance(a, b, x, y)\n",
    "            if d < min_distance: \n",
    "                min_distance = d\n",
    "                nearestx = x\n",
    "                nearesty = y\n",
    "                nearest = self.DICT[(x,y)]\n",
    "        print(\"distance is {}\".format(d))\n",
    "        print(\"x,y is {}, {}\".format(nearestx, nearesty))\n",
    "        return nearest\n",
    "\n",
    "    \n",
    "#Set up the data\n",
    "music = pd.DataFrame()\n",
    "music['loudness'] = [18, 34, 43, 36, 22, 9, 29, 22, 10, 24, \n",
    "                     20, 10, 17, 51, 7, 13, 19, 12, 21, 22,\n",
    "                     16, 18, 4, 23, 34, 19, 14, 11, 37, 42]\n",
    "music['duration'] = [184, 134, 243, 186, 122, 197, 294, 382, 102, 264, \n",
    "                     205, 110, 307, 110, 397, 153, 190, 192, 210, 403,\n",
    "                     164, 198, 204, 253, 234, 190, 182, 401, 376, 102]\n",
    "music['jazz'] = [ 1, 0, 0, 0, 1, 1, 0, 1, 1, 0,\n",
    "                  0, 1, 1, 0, 1, 1, 0, 1, 1, 1,\n",
    "                  1, 1, 1, 1, 0, 0, 1, 1, 0, 0]\n",
    "\n",
    "\n",
    "#test the class\n",
    "n = nearest_neighbor(music.loudness, music.duration, music.jazz)\n",
    "\n",
    "from sklearn.neighbors import KNeighborsClassifier\n",
    "neighbors = KNeighborsClassifier(n_neighbors=1)\n",
    "X = music[['loudness', 'duration']]\n",
    "Y = music.jazz\n",
    "neighbors.fit(X,Y)\n",
    "\n",
    "test_values = [(1, 3), (45, 200), (39, 121), (19, 183)]\n",
    "# #test_values = [(33, 191)]\n",
    "for (x,y) in test_values: \n",
    "    print(n.predict(x, y))\n",
    "    print(neighbors.predict([[x, y]]))\n",
    "\n"
   ]
  },
  {
   "cell_type": "code",
   "execution_count": null,
   "metadata": {},
   "outputs": [],
   "source": []
  }
 ],
 "metadata": {
  "kernelspec": {
   "display_name": "Python 3",
   "language": "python",
   "name": "python3"
  },
  "language_info": {
   "codemirror_mode": {
    "name": "ipython",
    "version": 3
   },
   "file_extension": ".py",
   "mimetype": "text/x-python",
   "name": "python",
   "nbconvert_exporter": "python",
   "pygments_lexer": "ipython3",
   "version": "3.7.3"
  }
 },
 "nbformat": 4,
 "nbformat_minor": 2
}
