{
 "cells": [
  {
   "cell_type": "markdown",
   "metadata": {},
   "source": [
    "## What_Models_Do\n",
    "This is an assignment for my thinkful data science course - \"Feature_Engineering_2\"\n",
    "Raj Prasad\n",
    "May 2019\n",
    "\n",
    "[link to this on github](https://github.com/daddyprasad5/thinkful/blob/master/What_Models_Do.ipynb) "
   ]
  },
  {
   "cell_type": "markdown",
   "metadata": {},
   "source": [
    "Try to model the result of a coin toss. In your model, include any features that you think important in explaining the result. Discuss with your mentor about the pros and cons of adding too many features into your model.\n",
    "\n",
    "I would use features like... \n",
    "* windspeed\n",
    "* wind direction (x, y, z vectors)\n",
    "* height from the ground\n",
    "* force applied (x, y, z vectors)\n",
    "* force application point on coin (x, y)\n",
    "* up-side prior to flip"
   ]
  },
  {
   "cell_type": "markdown",
   "metadata": {},
   "source": [
    "If you ever used Netflix, you should already have realized that it provides some recommendations for you to watch. In data science, this is an example of the so called recommendations systems. Read this non-technical blog post of Netflix about how they model their recommendations systems. Then, derive the features they use in their recommendations engines and discuss what else can be incorporated into this model.\n",
    "\n",
    "Features described in the article: \n",
    "* your viewing history\n",
    "* your ratings\n",
    "* like viewer viewing histor\n",
    "* like viewer ratings\n",
    "* movie \n",
    "* your time of day viewing history\n",
    "* devices you viewed on\n",
    "* your view durations\n",
    "* title genre\n",
    "* title actors\n",
    "* title release year\n",
    "* title category\n",
    "\n",
    "What else? \n",
    "* age & gender (netflix seems to exclude intentionally - not sure why)\n",
    "* \n"
   ]
  }
 ],
 "metadata": {
  "kernelspec": {
   "display_name": "Python 3",
   "language": "python",
   "name": "python3"
  },
  "language_info": {
   "codemirror_mode": {
    "name": "ipython",
    "version": 3
   },
   "file_extension": ".py",
   "mimetype": "text/x-python",
   "name": "python",
   "nbconvert_exporter": "python",
   "pygments_lexer": "ipython3",
   "version": "3.7.3"
  }
 },
 "nbformat": 4,
 "nbformat_minor": 2
}
